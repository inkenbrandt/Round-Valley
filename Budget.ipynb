{
 "cells": [
  {
   "cell_type": "code",
   "execution_count": 12,
   "metadata": {
    "collapsed": true
   },
   "outputs": [],
   "source": [
    "%matplotlib inline\n",
    "import matplotlib.pyplot as plt"
   ]
  },
  {
   "cell_type": "code",
   "execution_count": 3,
   "metadata": {
    "collapsed": true
   },
   "outputs": [],
   "source": [
    "import pandas as pd"
   ]
  },
  {
   "cell_type": "code",
   "execution_count": null,
   "metadata": {
    "collapsed": true
   },
   "outputs": [],
   "source": [
    "'UBM', 'PRISM', 'MODIS16', 'SNODAS'"
   ]
  },
  {
   "cell_type": "code",
   "execution_count": 111,
   "metadata": {},
   "outputs": [
    {
     "data": {
      "text/plain": [
       "array(['runoff', 'recharge', 'soil water', 'evapotranspiration',\n",
       "       'snowmelt', 'precip as rain'], dtype=object)"
      ]
     },
     "execution_count": 111,
     "metadata": {},
     "output_type": "execute_result"
    }
   ],
   "source": [
    "data = \"E:/PROJECTS/Round_Valley/Data/fixedbdgt.csv\"\n",
    "rvdataraw = pd.read_csv(data,memory_map=True)\n",
    "rvdataraw = rvdataraw[rvdataraw['SOURCE'].isin(['UBM','SNODAS'])]\n",
    "rvdataraw['variable'].unique()"
   ]
  },
  {
   "cell_type": "code",
   "execution_count": null,
   "metadata": {
    "collapsed": true
   },
   "outputs": [],
   "source": []
  },
  {
   "cell_type": "code",
   "execution_count": 115,
   "metadata": {},
   "outputs": [],
   "source": [
    "def summarizedata(rvdataraw, varb):\n",
    "\n",
    "    rvdata = rvdataraw[rvdataraw['HUC_12'].isin([160202030404,160202030403,160202030402])]\n",
    "    rvdata = rvdata[rvdata['variable']==varb]\n",
    "    rvdata['date'] = rvdata['YearMonth'].apply(lambda x: pd.to_datetime(x,format='%Y%m'),1)\n",
    "    #rvdata['year'] = rvdata['YearMonth'].apply(lambda x: pd.to_datetime(x,format='%Y%m').year,1)\n",
    "    #rvdata['month'] = rvdata['YearMonth'].apply(lambda x: pd.to_datetime(x, format='%Y%m').month,1)\n",
    "    rvdata.set_index(['date'],inplace=True)\n",
    "    month_mean = rvdata.groupby([rvdata.index.month,rvdata['HUC_12']]).mean()\n",
    "    year_mean = month_mean.groupby(month_mean.index.get_level_values(1)).sum()\n",
    "    by_month = rvdata.groupby(pd.TimeGrouper('MS')).sum()\n",
    "    by_year = rvdata.groupby(rvdata.index.year).sum()\n",
    "    monthly_mean = month_mean.groupby(month_mean.index.get_level_values(0)).sum()\n",
    "    return month_mean, year_mean, monthly_mean, by_month,by_year"
   ]
  },
  {
   "cell_type": "code",
   "execution_count": 116,
   "metadata": {},
   "outputs": [
    {
     "name": "stdout",
     "output_type": "stream",
     "text": [
      "runoff = 1671.973442851648\n",
      "recharge = 6694.92819972026\n",
      "soil water = 463778.73842820164\n",
      "evapotranspiration = 74056.87420323209\n",
      "snowmelt = 28589.24964059479\n",
      "precip as rain = 41598.464052473544\n"
     ]
    }
   ],
   "source": [
    "component={}\n",
    "for compon in rvdataraw['variable'].unique():\n",
    "    component[compon] = summarizedata(rvdataraw, compon)\n",
    "    print('{:} = {:}'.format(compon,component[compon][1].volume_acft.sum()))"
   ]
  },
  {
   "cell_type": "code",
   "execution_count": 82,
   "metadata": {
    "collapsed": true
   },
   "outputs": [],
   "source": [
    "def getsum(comp):\n",
    "    return component[comp][1].volume_acft.sum()"
   ]
  },
  {
   "cell_type": "markdown",
   "metadata": {},
   "source": [
    "# Yearly UBM"
   ]
  },
  {
   "cell_type": "code",
   "execution_count": null,
   "metadata": {
    "collapsed": true
   },
   "outputs": [],
   "source": [
    "data = \"E:/PROJECTS/Round_Valley/Data/fixedbdgt.csv\"\n",
    "rvdataraw = pd.read_csv(data,memory_map=True)\n",
    "rvdataraw = rvdataraw[rvdataraw['SOURCE'].isin(['UBM','SNODAS'])]\n",
    "rvdataraw['variable'].unique()\n",
    "\n",
    "component={}\n",
    "for compon in rvdataraw['variable'].unique():\n",
    "    component[compon] = summarizedata(rvdataraw, compon)\n",
    "    print('{:} = {:}'.format(compon,component[compon][1].volume_acft.sum()))"
   ]
  },
  {
   "cell_type": "code",
   "execution_count": 121,
   "metadata": {},
   "outputs": [],
   "source": [
    "yearly_ubm = pd.concat([component['evapotranspiration'][4].volume_acft,\n",
    "           component['precip as rain'][4].volume_acft,\n",
    "           component['snowmelt'][4].volume_acft,\n",
    "           component['runoff'][4].volume_acft,\n",
    "           component['recharge'][4].volume_acft,\n",
    "           component['soil water'][4].volume_acft,\n",
    "          ],axis=1)\n",
    "yearly_ubm.columns =  ['evapotranspiration','precip as rain','snowmelt', 'runoff', 'recharge', 'soil water'] \n",
    "yearly_ubm['total_in'] = yearly_ubm['snowmelt'] + yearly_ubm['precip as rain']\n",
    "yearly_ubm['diff'] = yearly_ubm['total_in'] - yearly_ubm['evapotranspiration']"
   ]
  },
  {
   "cell_type": "code",
   "execution_count": 128,
   "metadata": {},
   "outputs": [
    {
     "data": {
      "text/html": [
       "<div>\n",
       "<style>\n",
       "    .dataframe thead tr:only-child th {\n",
       "        text-align: right;\n",
       "    }\n",
       "\n",
       "    .dataframe thead th {\n",
       "        text-align: left;\n",
       "    }\n",
       "\n",
       "    .dataframe tbody tr th {\n",
       "        vertical-align: top;\n",
       "    }\n",
       "</style>\n",
       "<table border=\"1\" class=\"dataframe\">\n",
       "  <thead>\n",
       "    <tr style=\"text-align: right;\">\n",
       "      <th></th>\n",
       "      <th>COUNT</th>\n",
       "      <th>AREA</th>\n",
       "      <th>MIN</th>\n",
       "      <th>MAX</th>\n",
       "      <th>RANGE</th>\n",
       "      <th>MEAN</th>\n",
       "      <th>STD</th>\n",
       "      <th>SUM</th>\n",
       "      <th>YearMonth</th>\n",
       "      <th>HUC_10</th>\n",
       "      <th>HUC_08</th>\n",
       "      <th>volume_m_cubed</th>\n",
       "      <th>volume_acft</th>\n",
       "    </tr>\n",
       "    <tr>\n",
       "      <th>HUC_12</th>\n",
       "      <th></th>\n",
       "      <th></th>\n",
       "      <th></th>\n",
       "      <th></th>\n",
       "      <th></th>\n",
       "      <th></th>\n",
       "      <th></th>\n",
       "      <th></th>\n",
       "      <th></th>\n",
       "      <th></th>\n",
       "      <th></th>\n",
       "      <th></th>\n",
       "      <th></th>\n",
       "    </tr>\n",
       "  </thead>\n",
       "  <tbody>\n",
       "    <tr>\n",
       "      <th>160202030402</th>\n",
       "      <td>504</td>\n",
       "      <td>504000000</td>\n",
       "      <td>0.071826</td>\n",
       "      <td>1.485818</td>\n",
       "      <td>1.413992</td>\n",
       "      <td>0.490539</td>\n",
       "      <td>0.455997</td>\n",
       "      <td>20.602620</td>\n",
       "      <td>2410878</td>\n",
       "      <td>19224243648</td>\n",
       "      <td>192242436</td>\n",
       "      <td>2.060262e+07</td>\n",
       "      <td>16702.832200</td>\n",
       "    </tr>\n",
       "    <tr>\n",
       "      <th>160202030403</th>\n",
       "      <td>1044</td>\n",
       "      <td>1044000000</td>\n",
       "      <td>0.005709</td>\n",
       "      <td>1.734356</td>\n",
       "      <td>1.728647</td>\n",
       "      <td>0.491474</td>\n",
       "      <td>0.531332</td>\n",
       "      <td>42.758235</td>\n",
       "      <td>2410878</td>\n",
       "      <td>19224243648</td>\n",
       "      <td>192242436</td>\n",
       "      <td>4.275823e+07</td>\n",
       "      <td>34664.699475</td>\n",
       "    </tr>\n",
       "    <tr>\n",
       "      <th>160202030404</th>\n",
       "      <td>684</td>\n",
       "      <td>684000000</td>\n",
       "      <td>0.024309</td>\n",
       "      <td>1.726749</td>\n",
       "      <td>1.702440</td>\n",
       "      <td>0.490998</td>\n",
       "      <td>0.584302</td>\n",
       "      <td>27.986864</td>\n",
       "      <td>2410878</td>\n",
       "      <td>19224243648</td>\n",
       "      <td>192242436</td>\n",
       "      <td>2.798686e+07</td>\n",
       "      <td>22689.342529</td>\n",
       "    </tr>\n",
       "  </tbody>\n",
       "</table>\n",
       "</div>"
      ],
      "text/plain": [
       "              COUNT        AREA       MIN       MAX     RANGE      MEAN  \\\n",
       "HUC_12                                                                    \n",
       "160202030402    504   504000000  0.071826  1.485818  1.413992  0.490539   \n",
       "160202030403   1044  1044000000  0.005709  1.734356  1.728647  0.491474   \n",
       "160202030404    684   684000000  0.024309  1.726749  1.702440  0.490998   \n",
       "\n",
       "                   STD        SUM  YearMonth       HUC_10     HUC_08  \\\n",
       "HUC_12                                                                 \n",
       "160202030402  0.455997  20.602620    2410878  19224243648  192242436   \n",
       "160202030403  0.531332  42.758235    2410878  19224243648  192242436   \n",
       "160202030404  0.584302  27.986864    2410878  19224243648  192242436   \n",
       "\n",
       "              volume_m_cubed   volume_acft  \n",
       "HUC_12                                      \n",
       "160202030402    2.060262e+07  16702.832200  \n",
       "160202030403    4.275823e+07  34664.699475  \n",
       "160202030404    2.798686e+07  22689.342529  "
      ]
     },
     "execution_count": 128,
     "metadata": {},
     "output_type": "execute_result"
    }
   ],
   "source": [
    "component['evapotranspiration'][1]"
   ]
  },
  {
   "cell_type": "code",
   "execution_count": 127,
   "metadata": {},
   "outputs": [
    {
     "data": {
      "text/html": [
       "<div>\n",
       "<style>\n",
       "    .dataframe thead tr:only-child th {\n",
       "        text-align: right;\n",
       "    }\n",
       "\n",
       "    .dataframe thead th {\n",
       "        text-align: left;\n",
       "    }\n",
       "\n",
       "    .dataframe tbody tr th {\n",
       "        vertical-align: top;\n",
       "    }\n",
       "</style>\n",
       "<table border=\"1\" class=\"dataframe\">\n",
       "  <thead>\n",
       "    <tr style=\"text-align: right;\">\n",
       "      <th></th>\n",
       "      <th>evapotranspiration</th>\n",
       "      <th>precip as rain</th>\n",
       "      <th>snowmelt</th>\n",
       "      <th>runoff</th>\n",
       "      <th>recharge</th>\n",
       "      <th>soil water</th>\n",
       "      <th>total_in</th>\n",
       "      <th>diff</th>\n",
       "    </tr>\n",
       "  </thead>\n",
       "  <tbody>\n",
       "    <tr>\n",
       "      <th>count</th>\n",
       "      <td>4.000000</td>\n",
       "      <td>4.000000</td>\n",
       "      <td>4.000000</td>\n",
       "      <td>4.000000</td>\n",
       "      <td>4.000000</td>\n",
       "      <td>4.000000</td>\n",
       "      <td>4.000000</td>\n",
       "      <td>4.000000</td>\n",
       "    </tr>\n",
       "    <tr>\n",
       "      <th>mean</th>\n",
       "      <td>67830.387074</td>\n",
       "      <td>42440.606078</td>\n",
       "      <td>33380.357954</td>\n",
       "      <td>2251.312144</td>\n",
       "      <td>7323.247751</td>\n",
       "      <td>463186.516877</td>\n",
       "      <td>75820.964032</td>\n",
       "      <td>7990.576958</td>\n",
       "    </tr>\n",
       "    <tr>\n",
       "      <th>std</th>\n",
       "      <td>13167.981217</td>\n",
       "      <td>13088.889252</td>\n",
       "      <td>13425.251177</td>\n",
       "      <td>3649.862264</td>\n",
       "      <td>7498.375220</td>\n",
       "      <td>12528.466950</td>\n",
       "      <td>13277.921430</td>\n",
       "      <td>5613.175886</td>\n",
       "    </tr>\n",
       "    <tr>\n",
       "      <th>min</th>\n",
       "      <td>50985.326843</td>\n",
       "      <td>33843.204773</td>\n",
       "      <td>21602.974198</td>\n",
       "      <td>42.616119</td>\n",
       "      <td>1281.515607</td>\n",
       "      <td>446328.810097</td>\n",
       "      <td>59047.412549</td>\n",
       "      <td>1691.351075</td>\n",
       "    </tr>\n",
       "    <tr>\n",
       "      <th>25%</th>\n",
       "      <td>61430.436902</td>\n",
       "      <td>35007.155012</td>\n",
       "      <td>23139.949143</td>\n",
       "      <td>225.990269</td>\n",
       "      <td>2740.540104</td>\n",
       "      <td>458214.974443</td>\n",
       "      <td>68616.898988</td>\n",
       "      <td>5593.778429</td>\n",
       "    </tr>\n",
       "    <tr>\n",
       "      <th>50%</th>\n",
       "      <td>69292.783104</td>\n",
       "      <td>37040.093710</td>\n",
       "      <td>30807.898576</td>\n",
       "      <td>634.582716</td>\n",
       "      <td>4981.081882</td>\n",
       "      <td>465343.447334</td>\n",
       "      <td>77624.367060</td>\n",
       "      <td>7478.336627</td>\n",
       "    </tr>\n",
       "    <tr>\n",
       "      <th>75%</th>\n",
       "      <td>75692.733277</td>\n",
       "      <td>44473.544776</td>\n",
       "      <td>41048.307387</td>\n",
       "      <td>2659.904591</td>\n",
       "      <td>9563.789529</td>\n",
       "      <td>470314.989768</td>\n",
       "      <td>84828.432103</td>\n",
       "      <td>9875.135156</td>\n",
       "    </tr>\n",
       "    <tr>\n",
       "      <th>max</th>\n",
       "      <td>81750.655243</td>\n",
       "      <td>61839.032120</td>\n",
       "      <td>50302.660464</td>\n",
       "      <td>7693.467026</td>\n",
       "      <td>18049.311631</td>\n",
       "      <td>475730.362745</td>\n",
       "      <td>88987.709459</td>\n",
       "      <td>15314.283504</td>\n",
       "    </tr>\n",
       "  </tbody>\n",
       "</table>\n",
       "</div>"
      ],
      "text/plain": [
       "       evapotranspiration  precip as rain      snowmelt       runoff  \\\n",
       "count            4.000000        4.000000      4.000000     4.000000   \n",
       "mean         67830.387074    42440.606078  33380.357954  2251.312144   \n",
       "std          13167.981217    13088.889252  13425.251177  3649.862264   \n",
       "min          50985.326843    33843.204773  21602.974198    42.616119   \n",
       "25%          61430.436902    35007.155012  23139.949143   225.990269   \n",
       "50%          69292.783104    37040.093710  30807.898576   634.582716   \n",
       "75%          75692.733277    44473.544776  41048.307387  2659.904591   \n",
       "max          81750.655243    61839.032120  50302.660464  7693.467026   \n",
       "\n",
       "           recharge     soil water      total_in          diff  \n",
       "count      4.000000       4.000000      4.000000      4.000000  \n",
       "mean    7323.247751  463186.516877  75820.964032   7990.576958  \n",
       "std     7498.375220   12528.466950  13277.921430   5613.175886  \n",
       "min     1281.515607  446328.810097  59047.412549   1691.351075  \n",
       "25%     2740.540104  458214.974443  68616.898988   5593.778429  \n",
       "50%     4981.081882  465343.447334  77624.367060   7478.336627  \n",
       "75%     9563.789529  470314.989768  84828.432103   9875.135156  \n",
       "max    18049.311631  475730.362745  88987.709459  15314.283504  "
      ]
     },
     "execution_count": 127,
     "metadata": {},
     "output_type": "execute_result"
    }
   ],
   "source": [
    "yearly_ubm=yearly_ubm.iloc[2:-1,:]\n",
    "yearly_ubm.describe()"
   ]
  },
  {
   "cell_type": "markdown",
   "metadata": {},
   "source": [
    "# Yearly Modis and PRISM"
   ]
  },
  {
   "cell_type": "code",
   "execution_count": null,
   "metadata": {
    "collapsed": true
   },
   "outputs": [],
   "source": [
    "data = \"E:/PROJECTS/Round_Valley/Data/fixedbdgt.csv\"\n",
    "rvdataraw = pd.read_csv(data,memory_map=True)\n",
    "rvdataraw = rvdataraw[rvdataraw['SOURCE'].isin(['PRISM','MODIS16'])]\n",
    "rvdataraw['variable'].unique()\n",
    "\n",
    "component={}\n",
    "for compon in rvdataraw['variable'].unique():\n",
    "    component[compon] = summarizedata(rvdataraw, compon)\n",
    "    print('{:} = {:}'.format(compon,component[compon][1].volume_acft.sum()))"
   ]
  },
  {
   "cell_type": "code",
   "execution_count": 110,
   "metadata": {},
   "outputs": [
    {
     "data": {
      "text/html": [
       "<div>\n",
       "<style>\n",
       "    .dataframe thead tr:only-child th {\n",
       "        text-align: right;\n",
       "    }\n",
       "\n",
       "    .dataframe thead th {\n",
       "        text-align: left;\n",
       "    }\n",
       "\n",
       "    .dataframe tbody tr th {\n",
       "        vertical-align: top;\n",
       "    }\n",
       "</style>\n",
       "<table border=\"1\" class=\"dataframe\">\n",
       "  <thead>\n",
       "    <tr style=\"text-align: right;\">\n",
       "      <th></th>\n",
       "      <th>ET</th>\n",
       "      <th>ppt</th>\n",
       "      <th>diff</th>\n",
       "    </tr>\n",
       "    <tr>\n",
       "      <th>date</th>\n",
       "      <th></th>\n",
       "      <th></th>\n",
       "      <th></th>\n",
       "    </tr>\n",
       "  </thead>\n",
       "  <tbody>\n",
       "    <tr>\n",
       "      <th>2005-01-31</th>\n",
       "      <td>210589.852443</td>\n",
       "      <td>557484.897368</td>\n",
       "      <td>346895.044926</td>\n",
       "    </tr>\n",
       "    <tr>\n",
       "      <th>2006-01-31</th>\n",
       "      <td>207436.337196</td>\n",
       "      <td>539934.648923</td>\n",
       "      <td>332498.311727</td>\n",
       "    </tr>\n",
       "    <tr>\n",
       "      <th>2007-01-31</th>\n",
       "      <td>221184.506382</td>\n",
       "      <td>560860.946353</td>\n",
       "      <td>339676.439971</td>\n",
       "    </tr>\n",
       "    <tr>\n",
       "      <th>2008-01-31</th>\n",
       "      <td>241788.802703</td>\n",
       "      <td>505518.365060</td>\n",
       "      <td>263729.562357</td>\n",
       "    </tr>\n",
       "    <tr>\n",
       "      <th>2009-01-31</th>\n",
       "      <td>217809.747212</td>\n",
       "      <td>535897.663251</td>\n",
       "      <td>318087.916039</td>\n",
       "    </tr>\n",
       "    <tr>\n",
       "      <th>2010-01-31</th>\n",
       "      <td>213534.771110</td>\n",
       "      <td>529380.920780</td>\n",
       "      <td>315846.149670</td>\n",
       "    </tr>\n",
       "    <tr>\n",
       "      <th>2011-01-31</th>\n",
       "      <td>211658.049544</td>\n",
       "      <td>522458.225680</td>\n",
       "      <td>310800.176137</td>\n",
       "    </tr>\n",
       "    <tr>\n",
       "      <th>2012-01-31</th>\n",
       "      <td>210133.826047</td>\n",
       "      <td>543517.905027</td>\n",
       "      <td>333384.078980</td>\n",
       "    </tr>\n",
       "    <tr>\n",
       "      <th>2013-01-31</th>\n",
       "      <td>246160.739911</td>\n",
       "      <td>531551.863557</td>\n",
       "      <td>285391.123646</td>\n",
       "    </tr>\n",
       "    <tr>\n",
       "      <th>2014-01-31</th>\n",
       "      <td>229144.826181</td>\n",
       "      <td>529395.499710</td>\n",
       "      <td>300250.673529</td>\n",
       "    </tr>\n",
       "    <tr>\n",
       "      <th>2015-01-31</th>\n",
       "      <td>222156.471397</td>\n",
       "      <td>475362.481597</td>\n",
       "      <td>253206.010199</td>\n",
       "    </tr>\n",
       "  </tbody>\n",
       "</table>\n",
       "</div>"
      ],
      "text/plain": [
       "                       ET            ppt           diff\n",
       "date                                                   \n",
       "2005-01-31  210589.852443  557484.897368  346895.044926\n",
       "2006-01-31  207436.337196  539934.648923  332498.311727\n",
       "2007-01-31  221184.506382  560860.946353  339676.439971\n",
       "2008-01-31  241788.802703  505518.365060  263729.562357\n",
       "2009-01-31  217809.747212  535897.663251  318087.916039\n",
       "2010-01-31  213534.771110  529380.920780  315846.149670\n",
       "2011-01-31  211658.049544  522458.225680  310800.176137\n",
       "2012-01-31  210133.826047  543517.905027  333384.078980\n",
       "2013-01-31  246160.739911  531551.863557  285391.123646\n",
       "2014-01-31  229144.826181  529395.499710  300250.673529\n",
       "2015-01-31  222156.471397  475362.481597  253206.010199"
      ]
     },
     "execution_count": 110,
     "metadata": {},
     "output_type": "execute_result"
    }
   ],
   "source": [
    "yearly = pd.concat([component['evapotranspiration'][4].volume_acft,component['precipitation'][4].volume_acft],axis=1)\n",
    "\n",
    "yearly.columns = ['ET','ppt']\n",
    "yearly = yearly.iloc[5:,:]\n",
    "yearly['diff'] = yearly.ppt - yearly.ET\n",
    "yearly"
   ]
  },
  {
   "cell_type": "code",
   "execution_count": 87,
   "metadata": {},
   "outputs": [
    {
     "data": {
      "text/plain": [
       "46384.547505455586"
      ]
     },
     "execution_count": 87,
     "metadata": {},
     "output_type": "execute_result"
    }
   ],
   "source": [
    "getsum('precipitation') - getsum('evapotranspiration')"
   ]
  },
  {
   "cell_type": "code",
   "execution_count": 83,
   "metadata": {},
   "outputs": [
    {
     "data": {
      "text/plain": [
       "-152345.5451171929"
      ]
     },
     "execution_count": 83,
     "metadata": {},
     "output_type": "execute_result"
    }
   ],
   "source": [
    "(getsum('precip as rain') + getsum('snowmelt')) - getsum('evapotranspiration')"
   ]
  },
  {
   "cell_type": "code",
   "execution_count": null,
   "metadata": {
    "collapsed": true
   },
   "outputs": [],
   "source": []
  },
  {
   "cell_type": "code",
   "execution_count": 60,
   "metadata": {},
   "outputs": [
    {
     "name": "stdout",
     "output_type": "stream",
     "text": [
      "28589.2496406\n",
      "159716.326861\n"
     ]
    }
   ],
   "source": [
    "snow = summarizedata(rvdataraw, 'snowmelt')\n",
    "print(snow[1].volume_acft.sum())\n",
    "\n",
    "\n",
    "evap = summarizedata('evapotranspiration')\n",
    "print(evap[1].volume_acft.sum())\n",
    "\n",
    "\n"
   ]
  },
  {
   "cell_type": "code",
   "execution_count": 50,
   "metadata": {},
   "outputs": [
    {
     "data": {
      "text/plain": [
       "152719.16800052088"
      ]
     },
     "execution_count": 50,
     "metadata": {},
     "output_type": "execute_result"
    }
   ],
   "source": []
  }
 ],
 "metadata": {
  "kernelspec": {
   "display_name": "Python 3",
   "language": "python",
   "name": "python3"
  },
  "language_info": {
   "codemirror_mode": {
    "name": "ipython",
    "version": 3
   },
   "file_extension": ".py",
   "mimetype": "text/x-python",
   "name": "python",
   "nbconvert_exporter": "python",
   "pygments_lexer": "ipython3",
   "version": "3.6.2"
  },
  "toc": {
   "nav_menu": {},
   "number_sections": true,
   "sideBar": true,
   "skip_h1_title": false,
   "title_cell": "Table of Contents",
   "title_sidebar": "Contents",
   "toc_cell": false,
   "toc_position": {},
   "toc_section_display": true,
   "toc_window_display": false
  },
  "varInspector": {
   "cols": {
    "lenName": 16,
    "lenType": 16,
    "lenVar": 40
   },
   "kernels_config": {
    "python": {
     "delete_cmd_postfix": "",
     "delete_cmd_prefix": "del ",
     "library": "var_list.py",
     "varRefreshCmd": "print(var_dic_list())"
    },
    "r": {
     "delete_cmd_postfix": ") ",
     "delete_cmd_prefix": "rm(",
     "library": "var_list.r",
     "varRefreshCmd": "cat(var_dic_list()) "
    }
   },
   "types_to_exclude": [
    "module",
    "function",
    "builtin_function_or_method",
    "instance",
    "_Feature"
   ],
   "window_display": false
  }
 },
 "nbformat": 4,
 "nbformat_minor": 2
}
