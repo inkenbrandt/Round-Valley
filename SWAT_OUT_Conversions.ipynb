{
 "cells": [
  {
   "cell_type": "code",
   "execution_count": 1,
   "metadata": {
    "ExecuteTime": {
     "end_time": "2018-04-05T13:13:33.464555Z",
     "start_time": "2018-04-05T13:13:27.019653Z"
    }
   },
   "outputs": [
    {
     "name": "stderr",
     "output_type": "stream",
     "text": [
      "C:\\Program Files\\ArcGIS\\Pro\\bin\\Python\\envs\\arcgispro-py3\\lib\\site-packages\\statsmodels\\compat\\pandas.py:56: FutureWarning: The pandas.core.datetools module is deprecated and will be removed in a future version. Please use the pandas.tseries module instead.\n",
      "  from pandas.core import datetools\n"
     ]
    }
   ],
   "source": [
    "import pandas as pd\n",
    "from io import StringIO\n",
    "import numpy as np\n",
    "#import matplotlib\n",
    "%matplotlib inline\n",
    "import matplotlib.pyplot as plt\n",
    "import matplotlib.dates as dates\n",
    "from pylab import rcParams\n",
    "rcParams['figure.figsize'] = 15, 15\n",
    "import wellapplication as wa\n",
    "import matplotlib as mpl\n",
    "import statsmodels.api as sm\n",
    "import statsmodels.formula.api as smf"
   ]
  },
  {
   "cell_type": "code",
   "execution_count": 2,
   "metadata": {
    "ExecuteTime": {
     "end_time": "2018-04-05T13:13:33.502558Z",
     "start_time": "2018-04-05T13:13:33.492533Z"
    }
   },
   "outputs": [],
   "source": [
    "import arcpy\n",
    "arcpy.CheckOutExtension(\"spatial\")\n",
    "from arcpy import env \n",
    "from arcpy.sa import *"
   ]
  },
  {
   "cell_type": "code",
   "execution_count": 3,
   "metadata": {
    "ExecuteTime": {
     "end_time": "2018-04-05T13:13:33.746889Z",
     "start_time": "2018-04-05T13:13:33.534646Z"
    }
   },
   "outputs": [],
   "source": [
    "def getdict(wrksp, yrstrt = -6):\n",
    "    if yrstrt >= -4:\n",
    "        yrend = None\n",
    "    else:\n",
    "        yrend = yrstrt+4\n",
    "    arcpy.env.workspace = wrksp\n",
    "    dct = {}\n",
    "    for tab in arcpy.ListTables():\n",
    "        if tab[yrstrt:yrend] in [str(i) for i in range(2000,2018)]:\n",
    "\n",
    "            dct[tab.replace('zonal_','')] = table_to_pandas_dataframe(tab)\n",
    "    return dct\n",
    "\n",
    "def dictozone(dct, yrstrt = -6, dataend = 4, div = 1.0):\n",
    "    if yrstrt >= -4:\n",
    "        yrend = None\n",
    "        moend = None\n",
    "    elif yrstrt <= -6:\n",
    "        yrend = yrstrt + 4\n",
    "        moend = yrstrt + 6\n",
    "    else:\n",
    "        yrend = yrstrt+4\n",
    "        moend = None\n",
    "    zonal = pd.concat(dct)\n",
    "    zonal['Year'] = zonal.index.get_level_values(0).map(lambda x: x[yrstrt:yrend])\n",
    "    zonal['Month'] = zonal.index.get_level_values(0).map(lambda x: x[yrend:moend])\n",
    "    zonal['Dataset'] = zonal.index.get_level_values(0).map(lambda x: x[:dataend])\n",
    "    zonal['volume_acft'] = zonal[['AREA','MEAN']].apply(lambda x: x[0]*x[1]*0.000810714/div,1)\n",
    "    zonalyr = zonal.groupby(['Dataset','Year']).sum()\n",
    "    zonal.reset_index(inplace=True)\n",
    "    return zonal\n",
    "\n",
    "def zonal_stack(zonal, zoneid = 'Permanent_Identifier', dmin=2004,dmax=2014):\n",
    "    znl = zonal.drop(['level_0','level_1','ZONE_CODE','COUNT','AREA','MEAN'],axis=1)\n",
    "    zstack = znl.groupby(['Dataset', zoneid,'Year']).sum()\n",
    "    ztab = zstack.unstack('Year')['volume_acft']\n",
    "    drange = [str(i) for i in range(dmin,dmax+1)]\n",
    "    print(ztab.columns)\n",
    "    ztab['average'] = ztab[drange].apply(lambda x: np.mean(x),1)\n",
    "    ztab['min'] = ztab[drange].apply(lambda x: np.min(x),1)\n",
    "    ztab['max'] = ztab[drange].apply(lambda x: np.max(x),1)\n",
    "    return ztab\n",
    "\n",
    "def get_sum_rows(ztab, zoneid = 'Permanent_Identifier'):\n",
    "    zsum = ztab.groupby(['Dataset',zoneid]).sum()\n",
    "    sums = zsum.groupby(zsum.index.get_level_values(0)).sum()\n",
    "    sums[zoneid] = 'All'\n",
    "    zsum.reset_index(inplace=True)\n",
    "    sums.reset_index(inplace=True)\n",
    "    zsum = zsum.append(sums)\n",
    "    zsum.sort_values(['Dataset',zoneid],ascending=[True,False],inplace=True)\n",
    "    zsum.set_index(['Dataset',zoneid],inplace=True)\n",
    "    zsum = zsum.round(0)\n",
    "    return zsum"
   ]
  },
  {
   "cell_type": "code",
   "execution_count": 4,
   "metadata": {
    "ExecuteTime": {
     "end_time": "2018-04-05T13:13:33.924351Z",
     "start_time": "2018-04-05T13:13:33.784990Z"
    }
   },
   "outputs": [],
   "source": [
    "def get_field_names(table):\n",
    "    read_descr = arcpy.Describe(table)\n",
    "    field_names = []\n",
    "    for field in read_descr.fields:\n",
    "        field_names.append(field.name)\n",
    "    field_names.remove('OBJECTID')\n",
    "    return field_names\n",
    "\n",
    "\n",
    "def table_to_pandas_dataframe(table, field_names=None, query=None, sql_sn=(None, None)):\n",
    "    \"\"\"\n",
    "    Load data into a Pandas Data Frame for subsequent analysis.\n",
    "    :param table: Table readable by ArcGIS.\n",
    "    :param field_names: List of fields.\n",
    "    :return: Pandas DataFrame object.\n",
    "    \"\"\"\n",
    "    # if field names are not specified\n",
    "    if not field_names:\n",
    "        field_names = get_field_names(table)\n",
    "    # create a pandas data frame\n",
    "    df = pd.DataFrame(columns=field_names)\n",
    "\n",
    "    # use a search cursor to iterate rows\n",
    "    with arcpy.da.SearchCursor(table, field_names, query, sql_clause=sql_sn) as search_cursor:\n",
    "        # iterate the rows\n",
    "        for row in search_cursor:\n",
    "            # combine the field names and row items together, and append them\n",
    "            df = df.append(dict(zip(field_names, row)), ignore_index=True)\n",
    "\n",
    "    # return the pandas data frame\n",
    "    return df"
   ]
  },
  {
   "cell_type": "code",
   "execution_count": 5,
   "metadata": {
    "ExecuteTime": {
     "end_time": "2018-04-05T13:13:34.074482Z",
     "start_time": "2018-04-05T13:13:33.961459Z"
    }
   },
   "outputs": [],
   "source": [
    "processed_dir = 'E:\\PROJECTS\\Round_Valley\\SWAT\\Scenarios\\Default\\TxtInOut'"
   ]
  },
  {
   "cell_type": "markdown",
   "metadata": {},
   "source": [
    "# Read Output Files"
   ]
  },
  {
   "cell_type": "markdown",
   "metadata": {
    "collapsed": true
   },
   "source": [
    "##  ArcSWAT Monthly Summary"
   ]
  },
  {
   "cell_type": "code",
   "execution_count": null,
   "metadata": {
    "ExecuteTime": {
     "end_time": "2018-04-03T15:06:09.693607Z",
     "start_time": "2018-04-03T15:06:09.689595Z"
    }
   },
   "outputs": [],
   "source": [
    " \n",
    "mondata =  \"\"\"1\t76.66\t62.80\t2.24\t5.73\t10.21\t1.52\t0.23\t3.94\n",
    "2\t67.52\t51.10\t4.23\t11.79\t19.06\t2.76\t0.84\t6.39\n",
    "3\t51.06\t29.79\t12.66\t35.51\t54.98\t14.77\t2.84\t29.59\n",
    "4\t61.93\t18.58\t15.99\t48.01\t78.84\t27.99\t5.18\t57.68\n",
    "5\t49.76\t1.97\t15.77\t36.50\t75.27\t45.14\t7.33\t117.18\n",
    "6\t25.69\t0.00\t2.72\t7.27\t30.00\t46.12\t2.46\t183.36\n",
    "7\t22.11\t0.00\t0.01\t2.86\t13.15\t44.94\t0.01\t212.47\n",
    "8\t30.99\t0.00\t0.27\t4.38\t7.84\t36.81\t0.25\t181.54\n",
    "9\t48.87\t0.68\t0.93\t7.90\t9.70\t31.14\t0.56\t125.19\n",
    "10\t57.20\t5.06\t1.96\t11.05\t13.54\t26.38\t0.46\t69.69\n",
    "11\t47.99\t27.66\t0.63\t6.62\t8.16\t12.43\t0.11\t24.40\n",
    "12\t94.56\t75.62\t3.45\t6.82\t11.73\t2.97\t0.93\t5.00\"\"\""
   ]
  },
  {
   "cell_type": "code",
   "execution_count": null,
   "metadata": {
    "ExecuteTime": {
     "end_time": "2018-04-03T15:06:10.075220Z",
     "start_time": "2018-04-03T15:06:10.072230Z"
    }
   },
   "outputs": [],
   "source": [
    "mondata2 =  \"\"\"1\t91.08\t80.27\t0.39\t4.30\t6.12\t1.42\t0.03\t3.54\n",
    "2\t77.13\t39.11\t4.15\t32.39\t41.01\t4.19\t0.52\t8.62\n",
    "3\t50.23\t20.56\t3.28\t43.55\t59.18\t18.52\t0.79\t38.19\n",
    "4\t48.25\t10.60\t1.98\t39.85\t61.25\t30.97\t0.65\t70.44\n",
    "5\t50.39\t2.38\t3.55\t24.95\t51.08\t49.97\t2.04\t108.81\n",
    "6\t13.77\t0.00\t0.00\t2.02\t18.14\t46.40\t0.00\t199.05\n",
    "7\t21.01\t0.00\t0.00\t2.66\t8.43\t44.35\t0.00\t217.53\n",
    "8\t41.22\t0.00\t0.02\t6.61\t7.96\t39.17\t0.00\t176.75\n",
    "9\t68.58\t1.33\t0.45\t12.37\t13.38\t35.99\t0.21\t131.06\n",
    "10\t22.47\t0.08\t0.00\t3.57\t4.33\t28.68\t0.00\t77.86\n",
    "11\t47.21\t27.98\t0.02\t5.54\t6.18\t11.88\t0.00\t25.81\n",
    "12\t90.03\t68.86\t0.69\t7.70\t9.09\t3.76\t0.03\t6.38\"\"\""
   ]
  },
  {
   "cell_type": "code",
   "execution_count": null,
   "metadata": {
    "ExecuteTime": {
     "end_time": "2018-04-03T15:06:10.660677Z",
     "start_time": "2018-04-03T15:06:10.532365Z"
    }
   },
   "outputs": [],
   "source": [
    "cols = ['mon','rain','snofall','surfq','latq','wtryld','et','sedyld','PET']\n",
    "monthly_basin_values = pd.read_table(StringIO(mondata2),sep='\\t',names=cols)\n",
    "basinareakm = 181.49 #186.37\n",
    "km2_to_m2 = 1000000\n",
    "basinaream = basinareakm*km2_to_m2\n",
    "for col in cols[1:]:\n",
    "    monthly_basin_values[col] = monthly_basin_values[col].apply(lambda x: x/1000*basinaream*0.000810714,1)\n",
    "\n",
    "monthly_basin_values.set_index('mon',inplace=True)\n",
    "monthly_basin_values.loc['total',:] = monthly_basin_values.loc[1:12,:].sum(axis=0)\n",
    "monthly_basin_values.loc[:,'avail_water'] = monthly_basin_values.loc[:,'rain'] - monthly_basin_values.loc[:,'et'] \n",
    "#monthly_basin_values.round(0).to_clipboard()\n",
    "monthly_basin_values.round(0)"
   ]
  },
  {
   "cell_type": "code",
   "execution_count": null,
   "metadata": {},
   "outputs": [],
   "source": [
    "cols = ['mon','rain','snofall','surfq','latq','wtryld','et','sedyld','PET']\n",
    "monthly_basin_values = pd.read_table(StringIO(mondata),sep='\\t',names=cols)\n",
    "basinareakm = 181.49 #186.37\n",
    "km2_to_m2 = 1000000\n",
    "basinaream = basinareakm*km2_to_m2\n",
    "for col in cols[1:]:\n",
    "    monthly_basin_values[col] = monthly_basin_values[col].apply(lambda x: x/1000*basinaream*0.000810714,1)\n",
    "\n",
    "monthly_basin_values.set_index('mon',inplace=True)\n",
    "monthly_basin_values.loc['total',:] = monthly_basin_values.loc[1:12,:].sum(axis=0)\n",
    "monthly_basin_values.loc[:,'avail_water'] = monthly_basin_values.loc[:,'rain'] - monthly_basin_values.loc[:,'et'] \n",
    "#monthly_basin_values.round(0).to_clipboard()\n",
    "monthly_basin_values.round(0)\n"
   ]
  },
  {
   "cell_type": "markdown",
   "metadata": {},
   "source": [
    "## ArcSWAT Model Summary"
   ]
  },
  {
   "cell_type": "code",
   "execution_count": null,
   "metadata": {},
   "outputs": [],
   "source": [
    "yrcols = ['et','ppt','revap','perc','latq','surfq','returnq','rchrg']\n",
    "yrdata  = [304.3,777.2,81.87,171.29,257.03,28.82,82.21,8.56]\n",
    "\n",
    "for d in range(len(yrdata)):\n",
    "    convd = yrdata[d]/1000*basinaream*0.000810714\n",
    "    print('{:} = {:0.0f} acft/yr'.format(yrcols[d],convd))\n",
    "    "
   ]
  },
  {
   "cell_type": "code",
   "execution_count": null,
   "metadata": {},
   "outputs": [],
   "source": [
    "yrly['totalppt'] = yrly['rain'] + yrly['snofall']"
   ]
  },
  {
   "cell_type": "code",
   "execution_count": null,
   "metadata": {},
   "outputs": [],
   "source": [
    "yrly['totalppt'] - yrly['et']"
   ]
  },
  {
   "cell_type": "code",
   "execution_count": null,
   "metadata": {},
   "outputs": [],
   "source": [
    "yrly['surfq'] + yrly['latq'] + yrly['wtryld']"
   ]
  },
  {
   "cell_type": "markdown",
   "metadata": {
    "collapsed": true
   },
   "source": [
    "## ArcSWAT TxtInOut RCH Summary for Monthly Output"
   ]
  },
  {
   "cell_type": "code",
   "execution_count": null,
   "metadata": {},
   "outputs": [],
   "source": [
    "output_dir = 'E:/Google Drive/WORK/Round_Valley/Data/GIS/SWAT/Scenarios/short/TxtInOut/'\n",
    "\n",
    "Long_Run_Mar_2018"
   ]
  },
  {
   "cell_type": "code",
   "execution_count": null,
   "metadata": {},
   "outputs": [],
   "source": [
    "cols = ['RCH', 'GIS', 'MON', 'AREAkm2', 'FLOW_INcms', 'FLOW_OUTcms', 'EVAPcms', 'TLOSScms']\n",
    "rch = pd.read_table(output_dir+'output.rch',sep='\\s+',usecols=[1,2,3,4,5,6,7,8],skiprows=9,names=cols)\n",
    "rch['FLOW_OUTacftyr'] = rch['FLOW_OUTcms']*25566.7\n",
    "rch.groupby('RCH').median()"
   ]
  },
  {
   "cell_type": "markdown",
   "metadata": {},
   "source": [
    "# ArcSWAT TxtInOut HRU Summary for Daily Output"
   ]
  },
  {
   "cell_type": "code",
   "execution_count": null,
   "metadata": {},
   "outputs": [],
   "source": []
  },
  {
   "cell_type": "code",
   "execution_count": null,
   "metadata": {
    "ExecuteTime": {
     "end_time": "2018-02-06T15:34:29.445081Z",
     "start_time": "2018-02-06T15:34:29.442066Z"
    }
   },
   "outputs": [],
   "source": [
    "output_dir = 'F:/GIS/Ogden_Valley/SWAT_2017_09_11/Scenarios/Model_w_SWATCUP_params_12_2017/TxtInOut/'\n",
    "processed_dir = 'F:/GIS/Ogden_Valley/SWAT_2017_09_11/Scenarios/'"
   ]
  },
  {
   "cell_type": "code",
   "execution_count": null,
   "metadata": {
    "ExecuteTime": {
     "end_time": "2018-02-06T15:36:09.838562Z",
     "start_time": "2018-02-06T15:34:29.638653Z"
    }
   },
   "outputs": [],
   "source": [
    "names = ['LULC', 'HRU', 'GIS', 'SUB', 'MGT', 'MO', 'DA', 'YR', 'AREAkm2',\n",
    "       'PRECIPmm', 'SNOFALLmm', 'SNOMELTmm', 'IRRmm', 'PETmm', 'ETmm',\n",
    "       'SW_INITmm', 'SW_ENDmm', 'PERCmm', 'GW_RCHGmm', 'DA_RCHGmm', 'REVAPmm',\n",
    "       'SA_IRRmm', 'DA_IRRmm', 'SA_STmm', 'DA_STmm','SURQ_GENmm','SURQ_CNTmm',\n",
    "       'TLOSSmm', 'LATQGENmm', 'GW_Qmm', 'WYLDmm']\n",
    "\n",
    "hru = pd.read_table(output_dir+'output.hru', sep='\\s+', usecols=range(0,31,1),\n",
    "                    skiprows=9, names=names)"
   ]
  },
  {
   "cell_type": "code",
   "execution_count": null,
   "metadata": {
    "ExecuteTime": {
     "end_time": "2018-02-06T15:36:12.178076Z",
     "start_time": "2018-02-06T15:36:11.909363Z"
    }
   },
   "outputs": [],
   "source": [
    "areas = hru.drop_duplicates(['GIS','AREAkm2'])"
   ]
  },
  {
   "cell_type": "code",
   "execution_count": null,
   "metadata": {
    "ExecuteTime": {
     "end_time": "2018-02-06T15:36:15.358562Z",
     "start_time": "2018-02-06T15:36:15.048740Z"
    }
   },
   "outputs": [],
   "source": [
    "areas = areas[['LULC','HRU','GIS','SUB','AREAkm2']]\n",
    "areas.to_csv(processed_dir+'hru_area_SWT_CUP.csv')"
   ]
  },
  {
   "cell_type": "code",
   "execution_count": null,
   "metadata": {
    "ExecuteTime": {
     "end_time": "2017-12-27T17:03:41.418791Z",
     "start_time": "2017-12-27T17:03:40.827722Z"
    }
   },
   "outputs": [],
   "source": [
    "hru_points = pd.read_csv(\"F:/GIS/Ogden_Valley/SWAT_2017_09_11/hru_pnts_coords3.txt\")"
   ]
  },
  {
   "cell_type": "code",
   "execution_count": null,
   "metadata": {},
   "outputs": [],
   "source": [
    "arcpy.env.overwriteOutput = True\n",
    "# Set environment settings\n",
    "arcpy.env.workspace = \"F:/GIS/Ogden_Valley/SWAT_2017_09_11/out_Data.gdb\""
   ]
  },
  {
   "cell_type": "markdown",
   "metadata": {},
   "source": [
    "### Monthly Mean"
   ]
  },
  {
   "cell_type": "code",
   "execution_count": null,
   "metadata": {
    "ExecuteTime": {
     "end_time": "2017-12-27T16:18:25.312019Z",
     "start_time": "2017-12-27T16:18:20.097854Z"
    }
   },
   "outputs": [],
   "source": [
    "hru_mo_mean = hru.groupby(['GIS','YR','MO']).sum()\n",
    "hru_mo_mean['HRUGIS'] = hru_mo_mean.index.get_level_values(0)\n",
    "hru_mo_mean['HRUGIS'] = hru_mo_mean['HRUGIS'].apply(lambda x: str(x).zfill(9),1)\n",
    "hru_mo_mean.to_csv(processed_dir+'hru_mo_mean.csv')"
   ]
  },
  {
   "cell_type": "code",
   "execution_count": null,
   "metadata": {
    "ExecuteTime": {
     "end_time": "2017-12-27T16:18:26.629182Z",
     "start_time": "2017-12-27T16:18:25.882925Z"
    }
   },
   "outputs": [],
   "source": [
    "hru_mo_mean_all = hru_mo_mean.groupby([hru_mo_mean.index.get_level_values(0),hru_mo_mean.index.get_level_values(2)]).mean()\n",
    "hru_mo_mean_all.to_csv(processed_dir + 'hru_mo_mean_all.csv')"
   ]
  },
  {
   "cell_type": "markdown",
   "metadata": {
    "collapsed": true
   },
   "source": [
    "### Yearly Mean"
   ]
  },
  {
   "cell_type": "code",
   "execution_count": null,
   "metadata": {
    "ExecuteTime": {
     "end_time": "2017-12-27T16:18:38.568534Z",
     "start_time": "2017-12-27T16:18:37.100425Z"
    }
   },
   "outputs": [],
   "source": [
    "hru_yr_mean = hru.groupby(['GIS','YR']).sum()\n",
    "hru_yr_mean['HRUGIS'] = hru_yr_mean.index.get_level_values(0)\n",
    "hru_yr_mean['HRUGIS'] = hru_yr_mean['HRUGIS'].apply(lambda x: str(x).zfill(9),1)\n",
    "hru_yr_mean.to_csv(processed_dir+'hru_yr_mean.csv')"
   ]
  },
  {
   "cell_type": "code",
   "execution_count": null,
   "metadata": {},
   "outputs": [],
   "source": [
    "hru_points"
   ]
  },
  {
   "cell_type": "code",
   "execution_count": null,
   "metadata": {
    "ExecuteTime": {
     "end_time": "2017-12-27T16:19:07.899350Z",
     "start_time": "2017-12-27T16:19:07.893853Z"
    }
   },
   "outputs": [],
   "source": [
    "hru_yr_mean.drop(['MO','DA','AREAkm2'],axis=1,inplace=True)"
   ]
  },
  {
   "cell_type": "code",
   "execution_count": null,
   "metadata": {
    "ExecuteTime": {
     "end_time": "2017-12-27T16:19:09.774996Z",
     "start_time": "2017-12-27T16:19:09.768978Z"
    }
   },
   "outputs": [],
   "source": [
    "hru_yr_mean.reset_index(inplace=True)"
   ]
  },
  {
   "cell_type": "code",
   "execution_count": null,
   "metadata": {
    "ExecuteTime": {
     "end_time": "2017-12-27T17:04:00.783992Z",
     "start_time": "2017-12-27T17:04:00.669096Z"
    }
   },
   "outputs": [],
   "source": [
    "hru_points_yrly = pd.merge(hru_yr_mean, hru_points, left_on='GIS', right_on='HRUGIS', how='left')"
   ]
  },
  {
   "cell_type": "code",
   "execution_count": null,
   "metadata": {
    "ExecuteTime": {
     "end_time": "2017-12-27T17:37:44.343620Z",
     "start_time": "2017-12-27T17:37:13.658180Z"
    }
   },
   "outputs": [],
   "source": [
    "hru_points_yrly.to_csv(processed_dir+\"hru_points_yrly_2.csv\")"
   ]
  },
  {
   "cell_type": "code",
   "execution_count": null,
   "metadata": {},
   "outputs": [],
   "source": []
  },
  {
   "cell_type": "code",
   "execution_count": null,
   "metadata": {},
   "outputs": [],
   "source": []
  },
  {
   "cell_type": "code",
   "execution_count": null,
   "metadata": {
    "ExecuteTime": {
     "end_time": "2017-12-27T18:15:53.781988Z",
     "start_time": "2017-12-27T18:05:55.726459Z"
    }
   },
   "outputs": [],
   "source": [
    "arcpy.env.overwriteOutput = True\n",
    "# Set environment settings\n",
    "arcpy.env.workspace = \"F:/GIS/Ogden_Valley/SWAT_2017_09_11/out_Data.gdb\"\n",
    "\n",
    "dataset = 'hru_yr_points2'\n",
    "\n",
    "\n",
    "intfields = ['PRECIPmm','SNOFALLmm','SNOMELTmm','IRRmm','PETmm',\n",
    "             'ETmm','SW_INITmm','SW_ENDmm','PERCmm','GW_RCHGmm','DA_RCHGmm',\n",
    "             'REVAPmm','SA_IRRmm','SA_STmm','DA_STmm',\n",
    "             'SURQ_GENmm','SURQ_CNTmm','TLOSSmm','LATQGENmm','GW_Qmm','WYLDmm']\n",
    "\n",
    "\n",
    "\n",
    "cellSize = 150\n",
    "\n",
    "arcpy.env.mask = \"F:/GIS/Ogden_Valley/SWAT_2017_09_11/out_Data.gdb/Basin\"\n",
    "# Check out the ArcGIS Spatial Analyst extension license\n",
    "arcpy.CheckOutExtension(\"Spatial\")\n",
    "\n",
    "\n",
    "\n",
    "for YR in range(2010,2017):\n",
    "\n",
    "    # Make a layer from the feature class\n",
    "    arcpy.MakeFeatureLayer_management(dataset, \"lyr\") \n",
    " \n",
    "    # Within selected features, further select only those cities which have a population > 10,000   \n",
    "    arcpy.SelectLayerByAttribute_management(\"lyr\", \"SUBSET_SELECTION\", ' \"YR\" = {:}'.format(YR))\n",
    " \n",
    "    # Write the selected features to a new featureclass\n",
    "    #arcpy.CopyFeatures_management(\"lyr\", \"chihuahua_10000plus\")\n",
    "    \n",
    "    for zField in intfields:\n",
    "        # Execute NaturalNeighbor\n",
    "        outNatNbr = NaturalNeighbor(\"lyr\", zField, cellSize)\n",
    "    \n",
    "        # Save the output \n",
    "        outNatNbr.save(zField+str(YR))\n",
    "        print(zField+str(YR))"
   ]
  },
  {
   "cell_type": "code",
   "execution_count": null,
   "metadata": {
    "ExecuteTime": {
     "end_time": "2017-12-28T22:06:33.056552Z",
     "start_time": "2017-12-28T21:59:57.060921Z"
    }
   },
   "outputs": [],
   "source": [
    "arcpy.env.overwriteOutput = True\n",
    "# Set environment settings\n",
    "arcpy.env.workspace = \"F:/GIS/Ogden_Valley/SWAT_2017_09_11/out_Data.gdb\"\n",
    "\n",
    "# Set local variables\n",
    "inZoneData = \"watersheds_8\"\n",
    "zoneField = \"Permanent_Identifier\"\n",
    "\n",
    "for rast in arcpy.ListRasters():\n",
    "    inValueRaster = rast\n",
    "    outTable = \"zonal_{:}\".format(rast)\n",
    "    try:\n",
    "        outZSaT = ZonalStatisticsAsTable(inZoneData, zoneField, inValueRaster, outTable, \"DATA\", \"MEAN\")\n",
    "    except:\n",
    "        pass"
   ]
  },
  {
   "cell_type": "code",
   "execution_count": null,
   "metadata": {
    "ExecuteTime": {
     "end_time": "2017-12-28T22:41:07.307887Z",
     "start_time": "2017-12-28T22:41:07.036166Z"
    },
    "scrolled": true
   },
   "outputs": [],
   "source": [
    "swtdct = getdict(\"F:/GIS/Ogden_Valley/SWAT_2017_09_11/out_Data.gdb\",yrstrt = -4)\n",
    "swtzone = dictozone(swtdct, yrstrt = -4, dataend = -4, div=1000.0)\n",
    "swttab = zonal_stack(swtzone, zoneid = 'Permanent_Identifier', dmin=2010, dmax=2016)\n",
    "SWTdata = get_sum_rows(swttab)"
   ]
  },
  {
   "cell_type": "code",
   "execution_count": null,
   "metadata": {},
   "outputs": [],
   "source": []
  },
  {
   "cell_type": "markdown",
   "metadata": {},
   "source": [
    "### All Years"
   ]
  },
  {
   "cell_type": "code",
   "execution_count": null,
   "metadata": {},
   "outputs": [],
   "source": [
    "hru_yr_mean_all = hru_yr_mean.groupby([hru_yr_mean.index.get_level_values(0)]).mean()\n",
    "hru_yr_mean_all['HRUGIS'] = hru_yr_mean_all.index.get_level_values(0)\n",
    "hru_yr_mean_all['HRUGIS'] = hru_yr_mean_all['HRUGIS'].apply(lambda x: str(x).zfill(9),1)\n",
    "hru_yr_mean_all.to_csv(processed_dir + 'hru_yr_mean_all.csv')\n"
   ]
  },
  {
   "cell_type": "code",
   "execution_count": null,
   "metadata": {},
   "outputs": [],
   "source": [
    "names = ['LULC', 'HRU', 'GIS', 'SUB', 'MGT', 'MO', 'DA', 'YR', 'AREAkm2',\n",
    "       'PRECIPmm', 'SNOFALLmm', 'SNOMELTmm', 'IRRmm', 'PETmm', 'ETmm',\n",
    "       'SW_INITmm', 'SW_ENDmm', 'PERCmm', 'GW_RCHGmm', 'DA_RCHGmm', 'REVAPmm',\n",
    "       'SA_IRRmm', 'DA_IRRmm', 'SA_STmm', 'DA_STmm','SURQ_GENmm','SURQ_CNTmm',\n",
    "       'TLOSSmm', 'LATQGENmm', 'GW_Qmm', 'WYLDmm']\n",
    "len(names)"
   ]
  },
  {
   "cell_type": "markdown",
   "metadata": {
    "collapsed": true
   },
   "source": [
    "## ArcSWAT TxtInOut RCH Summary for Daily Output"
   ]
  },
  {
   "cell_type": "code",
   "execution_count": null,
   "metadata": {
    "ExecuteTime": {
     "end_time": "2018-02-06T15:36:17.734469Z",
     "start_time": "2018-02-06T15:36:17.731461Z"
    }
   },
   "outputs": [],
   "source": [
    "#output_dir = 'E:/Google Drive/WORK/Round_Valley/Data/GIS/SWAT/Scenarios/short/TxtInOut/'\n",
    "#output_dir = 'E:/PROJECTS/Round_Valley/SWAT/Scenarios/Long_Run_Mar_2018/TxtInOut/'\n",
    "#output_dir = 'E:/PROJECTS/Round_Valley/SWAT/Scenarios/Default/TxtInOut/'\n",
    "\n",
    "output_dir = 'E:/PROJECTS/Round_Valley/SWAT/Scenarios/RevapAndCNadj/TxtInOut/'"
   ]
  },
  {
   "cell_type": "code",
   "execution_count": null,
   "metadata": {
    "ExecuteTime": {
     "end_time": "2018-02-06T15:36:20.111851Z",
     "start_time": "2018-02-06T15:36:19.865196Z"
    }
   },
   "outputs": [],
   "source": [
    "def getPlot(output_dir, subb=1):\n",
    "    cols = ['RCH','GIS','MO','DA','YR','AREAkm2','FLOW_INcms','FLOW_OUTcms','EVAPcms','TLOSScms']\n",
    "    rch = pd.read_table(output_dir+'output.rch',sep='\\s+',usecols=[1,2,3,4,5,6,7,8,9,10],skiprows=9,names=cols)\n",
    "    rch['FLOW_OUTacftyr'] = rch['FLOW_OUTcms']*25566.7\n",
    "    rch['FLOW_OUTcfs'] = rch['FLOW_OUTcms']*35.3147\n",
    "    byrch = rch.groupby('RCH').median()\n",
    "\n",
    "    rch['datetime'] = rch[['MO','DA','YR']].apply(lambda x: pd.datetime(x[2],x[0],x[1]),1)\n",
    "    rch.set_index('datetime',inplace=True)\n",
    "    valley_out = rch[rch['RCH'] == subb]\n",
    "    \n",
    "\n",
    "    valley_out = valley_out['FLOW_OUTcfs'].to_frame()\n",
    "    return byrch, valley_out, rch\n",
    "    \n"
   ]
  },
  {
   "cell_type": "code",
   "execution_count": null,
   "metadata": {
    "ExecuteTime": {
     "end_time": "2018-02-06T15:36:44.251408Z",
     "start_time": "2018-02-06T15:36:22.061824Z"
    },
    "scrolled": false
   },
   "outputs": [],
   "source": [
    "byrch, valley_out, rch = getPlot(output_dir, 56)\n",
    "discharge = wa.nwis('dv','10140100','sites')\n",
    "flow_data = discharge.data\n",
    "flow_data.reset_index(inplace=True)\n",
    "flow_data.set_index('datetime',inplace=True)\n",
    "flow_data = flow_data[(flow_data.index >= pd.datetime(2004,1,1))&(flow_data.index < pd.datetime(2017,1,1))]\n",
    "flow_data = flow_data.resample('1D').mean()\n",
    "flow_data.interpolate(method='time',inplace=True)\n",
    "\n",
    "x1 = valley_out.index\n",
    "y1 = valley_out['FLOW_OUTcfs']\n",
    "x2 = flow_data.index\n",
    "y2 = flow_data['value']\n",
    "\n",
    "\n",
    "byrch, valley_out, rch = getPlot(output_dir, 61)\n",
    "discharge = wa.nwis('dv','10137500','sites')\n",
    "flow_data = discharge.data\n",
    "flow_data.reset_index(inplace=True)\n",
    "flow_data.set_index('datetime',inplace=True)\n",
    "flow_data = flow_data[(flow_data.index >= pd.datetime(2010,1,1))&(flow_data.index < pd.datetime(2017,1,1))]\n",
    "flow_data = flow_data.resample('1D').mean()\n",
    "flow_data.interpolate(method='time',inplace=True)\n",
    "\n",
    "x3 = valley_out.index\n",
    "y3 = valley_out['FLOW_OUTcfs']\n",
    "x4 = flow_data.index\n",
    "y4 = flow_data['value']\n",
    "xl = range(0,1700)\n"
   ]
  },
  {
   "cell_type": "code",
   "execution_count": null,
   "metadata": {},
   "outputs": [],
   "source": [
    "from pylab import rcParams\n",
    "rcParams['figure.figsize'] = 15, 15\n",
    "rcParams['pdf.fonttype'] = 42\n",
    "inline_rc = dict(plt.rcParams)\n",
    "rcParams.update(inline_rc)\n",
    "rcParams['pdf.fonttype'] = 42\n",
    "\n",
    "byrch, valley_out, rch = getPlot(output_dir, 7)\n",
    "drive = 'G:/My Drive/WORK/'\n",
    "#fileplace =  drive + '/PROJECTS/Round_Valley/'\n",
    "\n",
    "#fileLocation = fileplace + 'URVH/URVH/'\n",
    "\n",
    "fileplace = drive + 'Round_Valley/Data/Hydrology_Data/'\n",
    "\n",
    "lmcfs = pd.read_pickle(fileplace + 'FLOW_W_BASEFLOW.pickle')\n",
    "DEQmeandly = pd.read_pickle(fileplace+\"deqmeandaily.pickle\")\n",
    "DEQ_long_flow = pd.read_pickle(fileplace+\"deq_long_flow.pickle\")\n",
    "DEQmeandly.to_clipboard()\n",
    "\n",
    "x1 = valley_out.index\n",
    "y1 = valley_out['FLOW_OUTcfs']\n",
    "\n",
    "plt.plot(x1,y1,label='Modeled (SWAT)')\n",
    "plt.plot(DEQmeandly.index, DEQmeandly.LowerMain_cfs,label='DEQ Measurements')\n",
    "plt.plot(lmcfs.index, lmcfs.LowerMain_cfs, label = 'UGS Measurements' )\n",
    "plt.scatter(DEQ_long_flow.index,DEQ_long_flow.Flow_cfs, color='red',label='Manual Measurements', zorder=10)\n",
    "\n",
    "plt.yscale('log')\n",
    "plt.xlim('10/1/2010','10/1/2017')\n",
    "plt.grid()\n",
    "plt.ylabel('Lower Main Creek Discharge (cfs)')\n",
    "plt.legend()"
   ]
  },
  {
   "cell_type": "code",
   "execution_count": null,
   "metadata": {},
   "outputs": [],
   "source": [
    "byrch, valley_out, rch = getPlot(output_dir, 7)\n"
   ]
  },
  {
   "cell_type": "code",
   "execution_count": null,
   "metadata": {},
   "outputs": [],
   "source": [
    "\n",
    "\n",
    "y = valley_out.loc[lmcfs.index[0]:lmcfs.index[-1],'FLOW_OUTcfs']\n",
    "x = lmcfs.LowerMain_cfs\n",
    "\n",
    "\n",
    "lm = pd.concat([x,y],axis=1)\n",
    "lm.columns = ['meas','model']\n",
    "lm['logmeas'] = np.log(lm['meas'])\n",
    "lm['logmodel'] = np.log(lm['model'])\n",
    "\n",
    "plt.figure()\n",
    "plt.scatter(x,y)\n",
    "plt.plot(range(1,200),range(1,200))\n",
    "\n",
    "g = sns.jointplot(\"model\", \"meas\", data=lm, kind=\"reg\",\n",
    "                  color=\"r\", size=7)"
   ]
  },
  {
   "cell_type": "code",
   "execution_count": null,
   "metadata": {},
   "outputs": [],
   "source": [
    "lm = pd.concat([x,y],axis=1)\n",
    "lm.columns = ['meas','model']\n",
    "lm['logmeas'] = np.log(lm['meas'])\n",
    "lm['logmodel'] = np.log(lm['model'])\n",
    "\n",
    "import seaborn as sns\n",
    "\n",
    "lmsmall = lm[(lm['logmeas']<2)]\n",
    "lmbig =  lm[(lm['logmeas']>2)]\n",
    "\n",
    "g = sns.jointplot(\"logmodel\", \"logmeas\", data=lm, kind=\"kde\",\n",
    "                  color=\"r\", size=7)\n",
    "\n",
    "h = sns.jointplot(\"logmodel\", \"logmeas\", data=lmsmall, kind=\"kde\",\n",
    "                  color=\"b\", size=7)\n",
    "j = sns.jointplot(\"logmodel\", \"logmeas\", data=lmbig, kind=\"kde\",\n",
    "                  color=\"g\", size=7)\n"
   ]
  },
  {
   "cell_type": "code",
   "execution_count": null,
   "metadata": {},
   "outputs": [],
   "source": [
    "byrch, valley_out, rch = getPlot(output_dir, 7)\n",
    "y = valley_out.loc[DEQmeandly.index[0]:DEQmeandly.index[-1],'FLOW_OUTcfs']\n",
    "x = DEQmeandly.LowerMain_cfs\n",
    "\n",
    "plt.figure()\n",
    "plt.scatter(x,y)\n",
    "\n"
   ]
  },
  {
   "cell_type": "code",
   "execution_count": null,
   "metadata": {
    "ExecuteTime": {
     "end_time": "2018-02-06T15:36:53.377790Z",
     "start_time": "2018-02-06T15:36:49.335560Z"
    }
   },
   "outputs": [],
   "source": [
    "import matplotlib\n",
    "matplotlib.rc('pdf', fonttype=42)\n",
    "rcParams['figure.figsize'] = 15, 15\n",
    "# Four axes, returned as a 2-d array\n",
    "fig, ax = plt.subplots(2, 2)\n",
    "\n",
    "ax[0, 0].plot(x1,y1,label='Modeled (SWAT)')\n",
    "ax[0, 0].plot(x2,y2,label='Measured (USGS)')\n",
    "ax[0, 0].set_title('Discharge of Ogden R. below Pinview Res. (USGS site 10140100)')\n",
    "ax[0, 0].set_ylabel('Discharge (cfs)')\n",
    "ax[0, 0].set_ylim(0.1,10000)\n",
    "ax[0, 0].set_yscale('log')\n",
    "ax[0, 0].grid()\n",
    "\n",
    "ax[1, 0].plot(x3,y3,label='Modeled (SWAT)')\n",
    "ax[1, 0].plot(x4,y4,label='Measured (USGS)')\n",
    "ax[1, 0].set_title('Discharge of South Fk near Huntsville (USGS site 10137500)')\n",
    "ax[1, 0].set_xlabel('Year')\n",
    "ax[1, 0].set_ylabel('Discharge (cfs)')\n",
    "ax[1, 0].set_ylim(0.1,10000)\n",
    "ax[1, 0].set_yscale('log')\n",
    "ax[1, 0].grid()\n",
    "\n",
    "ax[0, 1].scatter(y2,y1,label='modeled and measured correlation')\n",
    "ax[0, 1].plot(xl,xl,color='red',label='1-1 line')\n",
    "ax[0, 1].set_ylabel('Modeled Discharge (cfs)')\n",
    "ax[0, 1].set_ylim(0.1,10000)\n",
    "ax[0, 1].set_yscale('log')\n",
    "ax[0, 1].set_xlim(1.0,10000)\n",
    "ax[0, 1].set_xscale('log')\n",
    "ax[0, 1].grid()\n",
    "\n",
    "ax[1, 1].scatter(y4,y3, label='modeled and measured correlation')\n",
    "ax[1, 1].plot(xl,xl,color='red',label='1-1 line')\n",
    "ax[1, 1].set_ylabel('Modeled Discharge (cfs)')\n",
    "ax[1, 1].set_xlabel('Measured Discharge (cfs)')\n",
    "ax[1, 1].set_ylim(0.1,10000)\n",
    "ax[1, 1].set_yscale('log')\n",
    "ax[1, 1].set_xlim(1.0,10000)\n",
    "ax[1, 1].set_xscale('log')\n",
    "ax[1, 1].grid()\n",
    "\n",
    "# Fine-tune figure; hide x ticks for top plots and y ticks for right plots\n",
    "plt.setp([a.get_xticklabels() for a in ax[0, :]], visible=False)\n",
    "plt.setp([a.get_yticklabels() for a in ax[:, 1]], visible=False)\n",
    "\n",
    "h1, l1 = ax[0,0].get_legend_handles_labels()\n",
    "h2, l2 = ax[0,1].get_legend_handles_labels()\n",
    "\n",
    "fig.legend(h1+h2, l1+l2, loc=8, bbox_transform=fig.transFigure, ncol=4,scatterpoints = 1 )\n",
    "\n",
    "\n",
    "fig.tight_layout()\n",
    "fig.subplots_adjust(bottom=0.10)   \n",
    "\n",
    "plt.savefig('G:/My Drive/WORK/Ogden Valley/SWAT_figures/USGSvsSWATdischarge.pdf')"
   ]
  },
  {
   "cell_type": "code",
   "execution_count": null,
   "metadata": {
    "ExecuteTime": {
     "end_time": "2018-02-06T15:37:08.006314Z",
     "start_time": "2018-02-06T15:36:56.218844Z"
    }
   },
   "outputs": [],
   "source": [
    "byrch, valley_out, rch = getPlot(output_dir, 7)\n",
    "valley_out['FLOW_OUTcfs'].groupby(valley_out.index.year).mean()"
   ]
  },
  {
   "cell_type": "code",
   "execution_count": null,
   "metadata": {
    "ExecuteTime": {
     "end_time": "2018-02-06T15:37:10.458798Z",
     "start_time": "2018-02-06T15:37:10.446264Z"
    }
   },
   "outputs": [],
   "source": [
    "valley_out['FLOW_OUTcfd'] = valley_out['FLOW_OUTcfs']*86400\n",
    "valley_out['FLOW_OUTcfd'].groupby(valley_out.index.year).sum()*0.0000229569 # acre-feet per year"
   ]
  },
  {
   "cell_type": "code",
   "execution_count": null,
   "metadata": {
    "ExecuteTime": {
     "end_time": "2018-02-05T22:23:55.761905Z",
     "start_time": "2018-02-05T22:23:48.035254Z"
    }
   },
   "outputs": [],
   "source": [
    "drive = 'G:/My Drive/WORK/'\n",
    "fileplace = drive + 'Round_Valley/Data/Hydrology_Data/'\n",
    "ugs_data = pd.read_pickle(fileplace+'ugs_data_out.pickle')\n",
    "\n",
    "scenar1 = 'short'\n",
    "scenar2 = 'Default'\n",
    "output_dir1 = 'G:/My Drive/WORK/Round_Valley/Data/GIS/SWAT/Scenarios/{:}/TxtInOut/'.format(scenar1)\n",
    "output_dir2 = 'G:/My Drive/WORK/Round_Valley/Data/GIS/SWAT/Scenarios/{:}/TxtInOut/'.format(scenar2)\n",
    "\n",
    "byrch1, valley_out1 = getPlot(output_dir1)\n",
    "byrch2, valley_out2 = getPlot(output_dir2)\n",
    "\n",
    "\n",
    "ugs_df = ugs_data['LowerMain_cfs'].to_frame()\n",
    "ugs_df.dropna(inplace=True)\n",
    "ugs_df = ugs_df.resample('1D').mean()\n",
    "\n",
    "vo1 = valley_out1[(valley_out1.index >= ugs_df.index[0])&(valley_out1.index <= ugs_df.index[-1])]\n",
    "vo2 = valley_out2[(valley_out2.index >= ugs_df.index[0])&(valley_out2.index <= ugs_df.index[-1])]\n",
    "vo1.rename(columns={'FLOW_OUTcfs':scenar1},inplace=True)\n",
    "vo2.rename(columns={'FLOW_OUTcfs':scenar2},inplace=True)\n",
    "\n",
    "combined_mc = pd.concat([vo1,vo2,ugs_df],axis=1)\n",
    "combined_mc.plot()\n",
    "plt.yscale('log')"
   ]
  },
  {
   "cell_type": "code",
   "execution_count": null,
   "metadata": {},
   "outputs": [],
   "source": []
  },
  {
   "cell_type": "code",
   "execution_count": null,
   "metadata": {
    "ExecuteTime": {
     "end_time": "2018-01-02T15:46:08.507985Z",
     "start_time": "2018-01-02T15:46:08.373080Z"
    }
   },
   "outputs": [],
   "source": [
    "import statsmodels.api as sm\n",
    "import numpy as np\n",
    "\n",
    "df = combined_mc[(combined_mc['LowerMain_cfs']>10.0)&(combined_mc['FLOW_OUTcfs']<200)]\n",
    "y = df.LowerMain_cfs\n",
    "x = df['FLOW_OUTcfs']\n",
    "\n",
    "plt.scatter(x, y,color='red')\n",
    "#valley_out['FLOW_OUTcfs'].plot()\n",
    "#plt.xlim('1/1/2014','10/1/2017')\n",
    "#\n",
    "\n",
    "xa = sm.add_constant(x)\n",
    "est = sm.RLM(y, xa).fit()\n",
    "r2 = sm.WLS(y, xa, weights=est.weights).fit().rsquared\n",
    "slope = est.params[1]\n",
    "x_prime = np.linspace(np.min(x), np.max(x), 100)[:, np.newaxis]\n",
    "x_prime = sm.add_constant(x_prime)\n",
    "y_hat = est.predict(x_prime)\n",
    "\n",
    "const = est.params[0]\n",
    "x1 = np.arange(np.min(x), np.max(x), 0.1)\n",
    "y2 = [i * slope + const for i in x1]\n",
    "plt.plot(x1,y2)\n",
    "print(est.summary())\n",
    "plt.ylim(0,200)\n",
    "plt.xlim(0,1000)"
   ]
  },
  {
   "cell_type": "code",
   "execution_count": null,
   "metadata": {},
   "outputs": [],
   "source": [
    "combined_mc['mod_adj'] = combined_mc['FLOW_OUTcfs'].apply(lambda x: x*slope + const, 1)\n",
    "\n",
    "combined_mc.plot()\n",
    "plt.yscale('log')"
   ]
  },
  {
   "cell_type": "markdown",
   "metadata": {},
   "source": [
    "## ArcSWAT TxtInOut SUB"
   ]
  },
  {
   "cell_type": "code",
   "execution_count": null,
   "metadata": {
    "ExecuteTime": {
     "end_time": "2018-02-06T15:37:12.961016Z",
     "start_time": "2018-02-06T15:37:12.824656Z"
    }
   },
   "outputs": [],
   "source": [
    "def getsubPlot(output_dir, subb=55):\n",
    "    cols = ['SUB','GIS', 'MO','DA','YR','AREAkm2','PRECIPmm','SNOMELTmm','PETmm','ETmm','SWmm','PERCmm','SURQmm',\n",
    "            'GW_Qmm','WYLDmm','LatQmm']\n",
    "    rch = pd.read_table(output_dir+'output.sub',sep='\\s+',usecols=[1,2,3,4,5,6,7,8,9,10,11,12,13,14,15,22],\n",
    "                        skiprows=9,names=cols)\n",
    "    rch['WYLDmcubed'] = rch['AREAkm2']*rch['WYLDmm']*1000.0 # cubic meters\n",
    "    rch['WYLDacft'] = rch['WYLDmcubed']*0.000810714\n",
    "    byrch = rch.groupby('SUB').median()\n",
    "\n",
    "    rch['MDY'] = rch[['MO','DA','YR']].apply(lambda x: pd.datetime(x[2],x[0],x[1]),1)\n",
    "    rch.set_index('MDY',inplace=True)\n",
    "    valley_out = rch[rch['SUB'] == subb]\n",
    "    #valley_out.set_index('datetime',inplace=True)\n",
    "\n",
    "    #valley_out = valley_out['WYLDmcubed'].to_frame()\n",
    "    return byrch, valley_out, rch\n",
    "    \n"
   ]
  },
  {
   "cell_type": "code",
   "execution_count": null,
   "metadata": {
    "ExecuteTime": {
     "end_time": "2018-02-06T15:37:15.692266Z",
     "start_time": "2018-02-06T15:37:15.689761Z"
    }
   },
   "outputs": [],
   "source": [
    "subfile = \"F:/GIS/Ogden_Valley/SWAT_2017_09_11/Scenarios/Model_w_SWATCUP_params_12_2017/TxtInOut/\""
   ]
  },
  {
   "cell_type": "code",
   "execution_count": null,
   "metadata": {
    "ExecuteTime": {
     "end_time": "2018-02-06T15:37:29.987386Z",
     "start_time": "2018-02-06T15:37:18.537391Z"
    }
   },
   "outputs": [],
   "source": [
    "subbysub, sub_valley_out, subrch = getsubPlot(subfile,55)"
   ]
  },
  {
   "cell_type": "code",
   "execution_count": null,
   "metadata": {
    "ExecuteTime": {
     "end_time": "2018-02-05T21:02:57.954594Z",
     "start_time": "2018-02-05T21:02:57.936047Z"
    }
   },
   "outputs": [],
   "source": []
  },
  {
   "cell_type": "code",
   "execution_count": null,
   "metadata": {
    "ExecuteTime": {
     "end_time": "2018-02-06T15:37:32.823502Z",
     "start_time": "2018-02-06T15:37:32.809464Z"
    }
   },
   "outputs": [],
   "source": [
    "rch.reset_index(inplace=True)\n",
    "rch.set_index('RCH',inplace=True)\n",
    "subrch.reset_index(inplace=True)\n",
    "subrch['RCH'] = subrch['SUB']\n",
    "subrch.set_index('SUB',inplace=True)"
   ]
  },
  {
   "cell_type": "code",
   "execution_count": null,
   "metadata": {
    "ExecuteTime": {
     "end_time": "2018-02-06T15:37:35.729179Z",
     "start_time": "2018-02-06T15:37:35.725669Z"
    }
   },
   "outputs": [],
   "source": [
    "print(len(rch),len(subrch))"
   ]
  },
  {
   "cell_type": "code",
   "execution_count": null,
   "metadata": {
    "ExecuteTime": {
     "end_time": "2018-02-06T15:37:39.004888Z",
     "start_time": "2018-02-06T15:37:38.878051Z"
    }
   },
   "outputs": [],
   "source": [
    "rch_and_sub = pd.concat([rch, subrch],axis=1)\n",
    "rch_and_sub.reset_index(inplace=True)\n",
    "rch_and_sub.set_index(['datetime'],inplace=True)\n",
    "rch_and_sub.rename(columns = {'index':'SUB'},inplace=True)\n",
    "rch_and_sub.columns"
   ]
  },
  {
   "cell_type": "code",
   "execution_count": null,
   "metadata": {
    "ExecuteTime": {
     "end_time": "2018-02-06T15:39:21.489300Z",
     "start_time": "2018-02-06T15:37:42.572359Z"
    }
   },
   "outputs": [],
   "source": [
    "for col in rch_and_sub.columns:\n",
    "    if 'mm' in col:\n",
    "        print(col)\n",
    "        rch_and_sub[str(col)[:-2]+'acft'] = rch_and_sub[[col,'AREAkm2']].apply(lambda x: x[0]*x[1]*1000.0*0.000810714,1)\n",
    "rch_and_sub.columns"
   ]
  },
  {
   "cell_type": "code",
   "execution_count": null,
   "metadata": {
    "ExecuteTime": {
     "end_time": "2018-02-06T15:39:25.672947Z",
     "start_time": "2018-02-06T15:39:25.076353Z"
    }
   },
   "outputs": [],
   "source": [
    "rch_and_sub['EVAPcfd'] = rch_and_sub['EVAPcms']*35.3147*86400\n",
    "rch_and_sub['TLOSScfd'] = rch_and_sub['TLOSScms']*35.3147*86400  \n",
    "rch_and_sub['FLOW_INcfs'] = rch_and_sub['FLOW_INcms']*35.3147\n",
    "rch_and_sub['FLOW_INcfd'] = rch_and_sub['FLOW_INcfs']*86400\n",
    "rch_and_sub['FLOW_OUTcfd'] = rch_and_sub['FLOW_OUTcfs']*86400\n",
    "rch_and_sub_by_yr = rch_and_sub.groupby(['SUB',rch_and_sub.index.year]).sum()\n",
    "rch_and_sub_by_yr['FLOW_OUTacft-yr'] = rch_and_sub_by_yr['FLOW_OUTcfd']*0.0000229569\n",
    "rch_and_sub_by_yr['FLOW_INacft-yr'] = rch_and_sub_by_yr['FLOW_INcfd']*0.0000229569\n",
    "rch_and_sub_by_yr['TLOSSacft-yr'] = rch_and_sub_by_yr['TLOSScfd']*0.0000229569\n",
    "rch_and_sub_by_yr['EVAPacft-yr'] = rch_and_sub_by_yr['EVAPcfd']*0.0000229569\n",
    "rch_and_sub_by_yr = rch_and_sub_by_yr.round(0)"
   ]
  },
  {
   "cell_type": "code",
   "execution_count": null,
   "metadata": {
    "ExecuteTime": {
     "end_time": "2018-02-06T15:39:29.422902Z",
     "start_time": "2018-02-06T15:39:29.419894Z"
    }
   },
   "outputs": [],
   "source": [
    "keepers = []\n",
    "for col in rch_and_sub_by_yr.columns:\n",
    "    if 'acft' in col:\n",
    "        keepers.append(col)"
   ]
  },
  {
   "cell_type": "code",
   "execution_count": null,
   "metadata": {
    "ExecuteTime": {
     "end_time": "2018-02-06T15:39:33.845674Z",
     "start_time": "2018-02-06T15:39:32.708154Z"
    }
   },
   "outputs": [],
   "source": [
    "rch_and_sub_by_wt_yr[keepers].groupby('SUB').mean().to_clipboard()"
   ]
  },
  {
   "cell_type": "code",
   "execution_count": null,
   "metadata": {
    "ExecuteTime": {
     "end_time": "2018-02-06T15:39:33.851690Z",
     "start_time": "2018-02-06T15:35:31.550Z"
    },
    "scrolled": true
   },
   "outputs": [],
   "source": [
    "rch_and_sub_by_yr[keepers].to_clipboard()"
   ]
  },
  {
   "cell_type": "code",
   "execution_count": null,
   "metadata": {
    "ExecuteTime": {
     "end_time": "2018-02-06T15:39:33.856703Z",
     "start_time": "2018-02-06T15:35:33.182Z"
    }
   },
   "outputs": [],
   "source": [
    "rch_and_sub_by_wt_yr = rch_and_sub.groupby(['SUB',rch_and_sub.index.shift(-2,freq='m').year]).sum()\n",
    "rch_and_sub_by_wt_yr['FLOW_OUTacft-yr'] = rch_and_sub_by_wt_yr['FLOW_OUTcfd']*0.0000229569\n",
    "rch_and_sub_by_wt_yr['FLOW_INacft-yr'] = rch_and_sub_by_wt_yr['FLOW_INcfd']*0.0000229569\n",
    "rch_and_sub_by_wt_yr['TLOSSacft-yr'] = rch_and_sub_by_wt_yr['TLOSScfd']*0.0000229569\n",
    "rch_and_sub_by_wt_yr['EVAPacft-yr'] = rch_and_sub_by_wt_yr['EVAPcfd']*0.0000229569\n",
    "rch_and_sub_by_wt_yr = rch_and_sub_by_wt_yr.round(0)"
   ]
  },
  {
   "cell_type": "code",
   "execution_count": null,
   "metadata": {
    "ExecuteTime": {
     "end_time": "2018-02-05T22:45:06.618473Z",
     "start_time": "2018-02-05T22:45:06.598413Z"
    }
   },
   "outputs": [],
   "source": [
    "rch_and_sub_by_wt_yr[keepers].to_clipboard()"
   ]
  },
  {
   "cell_type": "code",
   "execution_count": null,
   "metadata": {
    "ExecuteTime": {
     "end_time": "2018-02-05T22:30:04.066516Z",
     "start_time": "2018-02-05T22:30:04.055496Z"
    }
   },
   "outputs": [],
   "source": [
    "sub_valley_out['WYLDacft'].groupby(sub_valley_out.index.year).sum()"
   ]
  },
  {
   "cell_type": "code",
   "execution_count": null,
   "metadata": {},
   "outputs": [],
   "source": []
  },
  {
   "cell_type": "code",
   "execution_count": null,
   "metadata": {},
   "outputs": [],
   "source": []
  },
  {
   "cell_type": "markdown",
   "metadata": {},
   "source": [
    "## SWAT-Cup Flow Out"
   ]
  },
  {
   "cell_type": "code",
   "execution_count": null,
   "metadata": {},
   "outputs": [],
   "source": []
  },
  {
   "cell_type": "code",
   "execution_count": null,
   "metadata": {},
   "outputs": [],
   "source": [
    "\n",
    "fdict = {}\n",
    "iterlist = ['Iter4','Iter3']\n",
    "\n",
    "\n",
    "for name in iterlist:\n",
    "    for shed in range(1,83):\n",
    "        j = 0\n",
    "        Flow_filename = \"H:/GIS/Ogden_Valley/SWAT_2017_09_11/swatcup/Og20171026.Sufi2.SwatCup/Iterations/{:}/Sufi2.Out/R-FLOW_{:}.txt\"\n",
    "        Flow_file = Flow_filename.format(name,shed)\n",
    "        for i in range(0,3380,169):\n",
    "            j += 1\n",
    "            dname = '{:}-{:02d}-shed{:02d}'.format(name, j, shed)\n",
    "            fdict[dname] = pd.read_table(Flow_file, sep='\\s+',\n",
    "                                                            skiprows=1+i,nrows=168,\n",
    "                                                            names=['timestep','flow_cms'])\n",
    "            fdict[dname]['date'] = pd.date_range('1/1/2003','12/1/2016',freq='MS')\n",
    "            fdict[dname].set_index(['date'],inplace=True)\n",
    "            fdict[dname]['watershed'] = shed\n",
    "            fdict[dname]['model_iter'] = name\n",
    "            fdict[dname]['flow_acftmo'] = fdict[dname]['flow_cms']*2130.56\n",
    "iter5 = pd.concat(fdict)"
   ]
  },
  {
   "cell_type": "code",
   "execution_count": null,
   "metadata": {},
   "outputs": [],
   "source": [
    "iter5"
   ]
  },
  {
   "cell_type": "code",
   "execution_count": null,
   "metadata": {},
   "outputs": [],
   "source": [
    "yrmogrp = iter5.groupby([iter5.watershed, iter5.index.get_level_values(1).year,iter5.index.get_level_values(1).month]).median()\n",
    "yrmogrp = yrmogrp[yrmogrp.index.get_level_values(0) == 56]\n",
    "yrmogrp.groupby(yrmogrp.index.get_level_values(1)).sum()"
   ]
  },
  {
   "cell_type": "code",
   "execution_count": null,
   "metadata": {},
   "outputs": [],
   "source": [
    "iter5.groupby(iter5.index.get_level_values(1).month).median().sum()"
   ]
  },
  {
   "cell_type": "markdown",
   "metadata": {
    "ExecuteTime": {
     "end_time": "2017-12-27T21:52:10.734358Z",
     "start_time": "2017-12-27T21:52:10.730348Z"
    }
   },
   "source": [
    "# Climate Raster Zonal Summaries"
   ]
  },
  {
   "cell_type": "markdown",
   "metadata": {},
   "source": [
    "## SWAT"
   ]
  },
  {
   "cell_type": "code",
   "execution_count": null,
   "metadata": {},
   "outputs": [],
   "source": [
    "arcpy.env.overwriteOutput = True\n",
    "# Set environment settings\n",
    "arcpy.env.workspace = \"F:/GIS/Ogden_Valley/SWAT_2017_09_11/out_Data.gdb\"\n",
    "\n",
    "# Set local variables\n",
    "inZoneData = \"watersheds_8\"\n",
    "zoneField = \"Permanent_Identifier\"\n",
    "\n",
    "for rast in arcpy.ListRasters():\n",
    "    inValueRaster = rast\n",
    "    outTable = \"zonal_{:}\".format(rast)\n",
    "    try:\n",
    "        outZSaT = ZonalStatisticsAsTable(inZoneData, zoneField, inValueRaster, outTable, \"DATA\", \"MEAN\")\n",
    "    except:\n",
    "        pass"
   ]
  },
  {
   "cell_type": "code",
   "execution_count": null,
   "metadata": {
    "ExecuteTime": {
     "end_time": "2018-01-02T15:34:29.794712Z",
     "start_time": "2018-01-02T15:33:28.234627Z"
    }
   },
   "outputs": [],
   "source": [
    "swtdct = getdict(\"F:/GIS/Ogden_Valley/SWAT_2017_09_11/out_Data.gdb\",yrstrt = -4)\n",
    "swtzone = dictozone(swtdct, yrstrt = -4, dataend = -4, div=1000.0)\n",
    "swttab = zonal_stack(swtzone, zoneid = 'Permanent_Identifier', dmin=2010, dmax=2016)\n",
    "SWTdata = get_sum_rows(swttab)"
   ]
  },
  {
   "cell_type": "code",
   "execution_count": null,
   "metadata": {
    "ExecuteTime": {
     "end_time": "2018-01-02T17:55:33.736912Z",
     "start_time": "2018-01-02T17:55:33.692202Z"
    }
   },
   "outputs": [],
   "source": [
    "SWTdata "
   ]
  },
  {
   "cell_type": "code",
   "execution_count": null,
   "metadata": {},
   "outputs": [],
   "source": [
    "from matplotlib.sankey import Sankey\n",
    "# http://flothesof.github.io/sankey-tutorial-matplotlib.html\n",
    "fig = plt.figure()\n",
    "\n",
    "\n",
    "flows = arcswt_byFk.ix['Middle Fork',['PRECIP_area_adj','ET_area_adj',\n",
    "                                      'GW_Q_area_adj','SURQ_area_adj',\n",
    "                                      'PERC_area_adj','delta_SW']]\n",
    "labs = list(flows.index.values)\n",
    "\n",
    "sankey = Sankey(unit='ac-ft',scale=0.00001)\n",
    "sankey.add(flows=list(flows.values),labels = labs,\n",
    "           orientations=[1, 1, 0, 1,-1,-1], facecolor='blue')\n",
    "sankey.finish()\n",
    "plt.legend(loc='best')\n",
    "# Notice that only one connection is specified, but the systems form a\n",
    "# circuit since: (1) the lengths of the paths are justified and (2) the\n",
    "# orientation and ordering of the flows is mirrored."
   ]
  },
  {
   "cell_type": "markdown",
   "metadata": {},
   "source": [
    "### SWAT Zonal"
   ]
  },
  {
   "cell_type": "code",
   "execution_count": 6,
   "metadata": {
    "ExecuteTime": {
     "end_time": "2018-04-05T13:43:05.124365Z",
     "start_time": "2018-04-05T13:13:34.111583Z"
    }
   },
   "outputs": [
    {
     "name": "stdout",
     "output_type": "stream",
     "text": [
      "rec200401 ['name', 'geo']\n",
      "rec200401 ['HUC_12', 'huc']\n",
      "run200401 ['name', 'geo']\n",
      "run200401 ['HUC_12', 'huc']\n",
      "aet200401 ['name', 'geo']\n",
      "aet200401 ['HUC_12', 'huc']\n",
      "asw200401 ['name', 'geo']\n",
      "asw200401 ['HUC_12', 'huc']\n",
      "rec200402 ['name', 'geo']\n",
      "rec200402 ['HUC_12', 'huc']\n",
      "run200402 ['name', 'geo']\n",
      "run200402 ['HUC_12', 'huc']\n",
      "aet200402 ['name', 'geo']\n",
      "aet200402 ['HUC_12', 'huc']\n",
      "asw200402 ['name', 'geo']\n",
      "asw200402 ['HUC_12', 'huc']\n",
      "rec200403 ['name', 'geo']\n",
      "rec200403 ['HUC_12', 'huc']\n",
      "run200403 ['name', 'geo']\n",
      "run200403 ['HUC_12', 'huc']\n",
      "aet200403 ['name', 'geo']\n",
      "aet200403 ['HUC_12', 'huc']\n",
      "asw200403 ['name', 'geo']\n",
      "asw200403 ['HUC_12', 'huc']\n",
      "rec200404 ['name', 'geo']\n",
      "rec200404 ['HUC_12', 'huc']\n",
      "run200404 ['name', 'geo']\n",
      "run200404 ['HUC_12', 'huc']\n",
      "aet200404 ['name', 'geo']\n",
      "aet200404 ['HUC_12', 'huc']\n",
      "asw200404 ['name', 'geo']\n",
      "asw200404 ['HUC_12', 'huc']\n",
      "rec200405 ['name', 'geo']\n",
      "rec200405 ['HUC_12', 'huc']\n",
      "run200405 ['name', 'geo']\n",
      "run200405 ['HUC_12', 'huc']\n",
      "aet200405 ['name', 'geo']\n",
      "aet200405 ['HUC_12', 'huc']\n",
      "asw200405 ['name', 'geo']\n",
      "asw200405 ['HUC_12', 'huc']\n",
      "rec200406 ['name', 'geo']\n",
      "rec200406 ['HUC_12', 'huc']\n",
      "run200406 ['name', 'geo']\n",
      "run200406 ['HUC_12', 'huc']\n",
      "aet200406 ['name', 'geo']\n",
      "aet200406 ['HUC_12', 'huc']\n",
      "asw200406 ['name', 'geo']\n",
      "asw200406 ['HUC_12', 'huc']\n",
      "rec200407 ['name', 'geo']\n",
      "rec200407 ['HUC_12', 'huc']\n",
      "run200407 ['name', 'geo']\n",
      "run200407 ['HUC_12', 'huc']\n",
      "aet200407 ['name', 'geo']\n",
      "aet200407 ['HUC_12', 'huc']\n",
      "asw200407 ['name', 'geo']\n",
      "asw200407 ['HUC_12', 'huc']\n",
      "rec200408 ['name', 'geo']\n",
      "rec200408 ['HUC_12', 'huc']\n",
      "run200408 ['name', 'geo']\n",
      "run200408 ['HUC_12', 'huc']\n",
      "aet200408 ['name', 'geo']\n",
      "aet200408 ['HUC_12', 'huc']\n",
      "asw200408 ['name', 'geo']\n",
      "asw200408 ['HUC_12', 'huc']\n",
      "rec200409 ['name', 'geo']\n",
      "rec200409 ['HUC_12', 'huc']\n",
      "run200409 ['name', 'geo']\n",
      "run200409 ['HUC_12', 'huc']\n",
      "aet200409 ['name', 'geo']\n",
      "aet200409 ['HUC_12', 'huc']\n",
      "asw200409 ['name', 'geo']\n",
      "asw200409 ['HUC_12', 'huc']\n",
      "rec200410 ['name', 'geo']\n",
      "rec200410 ['HUC_12', 'huc']\n",
      "run200410 ['name', 'geo']\n",
      "run200410 ['HUC_12', 'huc']\n",
      "aet200410 ['name', 'geo']\n",
      "aet200410 ['HUC_12', 'huc']\n",
      "asw200410 ['name', 'geo']\n",
      "asw200410 ['HUC_12', 'huc']\n",
      "rec200411 ['name', 'geo']\n",
      "rec200411 ['HUC_12', 'huc']\n",
      "run200411 ['name', 'geo']\n",
      "run200411 ['HUC_12', 'huc']\n",
      "aet200411 ['name', 'geo']\n",
      "aet200411 ['HUC_12', 'huc']\n",
      "asw200411 ['name', 'geo']\n",
      "asw200411 ['HUC_12', 'huc']\n",
      "rec200412 ['name', 'geo']\n",
      "rec200412 ['HUC_12', 'huc']\n",
      "run200412 ['name', 'geo']\n",
      "run200412 ['HUC_12', 'huc']\n",
      "aet200412 ['name', 'geo']\n",
      "aet200412 ['HUC_12', 'huc']\n",
      "asw200412 ['name', 'geo']\n",
      "asw200412 ['HUC_12', 'huc']\n",
      "rec200501 ['name', 'geo']\n",
      "rec200501 ['HUC_12', 'huc']\n",
      "run200501 ['name', 'geo']\n",
      "run200501 ['HUC_12', 'huc']\n",
      "aet200501 ['name', 'geo']\n",
      "aet200501 ['HUC_12', 'huc']\n",
      "asw200501 ['name', 'geo']\n",
      "asw200501 ['HUC_12', 'huc']\n",
      "rec200502 ['name', 'geo']\n",
      "rec200502 ['HUC_12', 'huc']\n",
      "run200502 ['name', 'geo']\n",
      "run200502 ['HUC_12', 'huc']\n",
      "aet200502 ['name', 'geo']\n",
      "aet200502 ['HUC_12', 'huc']\n",
      "asw200502 ['name', 'geo']\n",
      "asw200502 ['HUC_12', 'huc']\n",
      "rec200503 ['name', 'geo']\n",
      "rec200503 ['HUC_12', 'huc']\n",
      "run200503 ['name', 'geo']\n",
      "run200503 ['HUC_12', 'huc']\n",
      "aet200503 ['name', 'geo']\n",
      "aet200503 ['HUC_12', 'huc']\n",
      "asw200503 ['name', 'geo']\n",
      "asw200503 ['HUC_12', 'huc']\n",
      "rec200504 ['name', 'geo']\n",
      "rec200504 ['HUC_12', 'huc']\n",
      "run200504 ['name', 'geo']\n",
      "run200504 ['HUC_12', 'huc']\n",
      "aet200504 ['name', 'geo']\n",
      "aet200504 ['HUC_12', 'huc']\n",
      "asw200504 ['name', 'geo']\n",
      "asw200504 ['HUC_12', 'huc']\n",
      "rec200505 ['name', 'geo']\n",
      "rec200505 ['HUC_12', 'huc']\n",
      "run200505 ['name', 'geo']\n",
      "run200505 ['HUC_12', 'huc']\n",
      "aet200505 ['name', 'geo']\n",
      "aet200505 ['HUC_12', 'huc']\n",
      "asw200505 ['name', 'geo']\n",
      "asw200505 ['HUC_12', 'huc']\n",
      "rec200506 ['name', 'geo']\n",
      "rec200506 ['HUC_12', 'huc']\n",
      "run200506 ['name', 'geo']\n",
      "run200506 ['HUC_12', 'huc']\n",
      "aet200506 ['name', 'geo']\n",
      "aet200506 ['HUC_12', 'huc']\n",
      "asw200506 ['name', 'geo']\n",
      "asw200506 ['HUC_12', 'huc']\n",
      "rec200507 ['name', 'geo']\n",
      "rec200507 ['HUC_12', 'huc']\n",
      "run200507 ['name', 'geo']\n",
      "run200507 ['HUC_12', 'huc']\n",
      "aet200507 ['name', 'geo']\n",
      "aet200507 ['HUC_12', 'huc']\n",
      "asw200507 ['name', 'geo']\n",
      "asw200507 ['HUC_12', 'huc']\n",
      "rec200508 ['name', 'geo']\n",
      "rec200508 ['HUC_12', 'huc']\n",
      "run200508 ['name', 'geo']\n",
      "run200508 ['HUC_12', 'huc']\n",
      "aet200508 ['name', 'geo']\n",
      "aet200508 ['HUC_12', 'huc']\n",
      "asw200508 ['name', 'geo']\n",
      "asw200508 ['HUC_12', 'huc']\n",
      "rec200509 ['name', 'geo']\n",
      "rec200509 ['HUC_12', 'huc']\n",
      "run200509 ['name', 'geo']\n",
      "run200509 ['HUC_12', 'huc']\n",
      "aet200509 ['name', 'geo']\n",
      "aet200509 ['HUC_12', 'huc']\n",
      "asw200509 ['name', 'geo']\n",
      "asw200509 ['HUC_12', 'huc']\n",
      "rec200510 ['name', 'geo']\n",
      "rec200510 ['HUC_12', 'huc']\n",
      "run200510 ['name', 'geo']\n",
      "run200510 ['HUC_12', 'huc']\n",
      "aet200510 ['name', 'geo']\n",
      "aet200510 ['HUC_12', 'huc']\n",
      "asw200510 ['name', 'geo']\n",
      "asw200510 ['HUC_12', 'huc']\n",
      "rec200511 ['name', 'geo']\n",
      "rec200511 ['HUC_12', 'huc']\n",
      "run200511 ['name', 'geo']\n",
      "run200511 ['HUC_12', 'huc']\n",
      "aet200511 ['name', 'geo']\n",
      "aet200511 ['HUC_12', 'huc']\n",
      "asw200511 ['name', 'geo']\n",
      "asw200511 ['HUC_12', 'huc']\n",
      "rec200512 ['name', 'geo']\n",
      "rec200512 ['HUC_12', 'huc']\n",
      "run200512 ['name', 'geo']\n",
      "run200512 ['HUC_12', 'huc']\n",
      "aet200512 ['name', 'geo']\n",
      "aet200512 ['HUC_12', 'huc']\n",
      "asw200512 ['name', 'geo']\n",
      "asw200512 ['HUC_12', 'huc']\n",
      "rec200601 ['name', 'geo']\n",
      "rec200601 ['HUC_12', 'huc']\n",
      "run200601 ['name', 'geo']\n",
      "run200601 ['HUC_12', 'huc']\n",
      "aet200601 ['name', 'geo']\n",
      "aet200601 ['HUC_12', 'huc']\n",
      "asw200601 ['name', 'geo']\n",
      "asw200601 ['HUC_12', 'huc']\n",
      "rec200602 ['name', 'geo']\n",
      "rec200602 ['HUC_12', 'huc']\n",
      "run200602 ['name', 'geo']\n",
      "run200602 ['HUC_12', 'huc']\n",
      "aet200602 ['name', 'geo']\n",
      "aet200602 ['HUC_12', 'huc']\n",
      "asw200602 ['name', 'geo']\n",
      "asw200602 ['HUC_12', 'huc']\n",
      "rec200603 ['name', 'geo']\n",
      "rec200603 ['HUC_12', 'huc']\n",
      "run200603 ['name', 'geo']\n",
      "run200603 ['HUC_12', 'huc']\n",
      "aet200603 ['name', 'geo']\n",
      "aet200603 ['HUC_12', 'huc']\n",
      "asw200603 ['name', 'geo']\n",
      "asw200603 ['HUC_12', 'huc']\n",
      "rec200604 ['name', 'geo']\n",
      "rec200604 ['HUC_12', 'huc']\n",
      "run200604 ['name', 'geo']\n",
      "run200604 ['HUC_12', 'huc']\n",
      "aet200604 ['name', 'geo']\n",
      "aet200604 ['HUC_12', 'huc']\n",
      "asw200604 ['name', 'geo']\n",
      "asw200604 ['HUC_12', 'huc']\n",
      "rec200605 ['name', 'geo']\n",
      "rec200605 ['HUC_12', 'huc']\n",
      "run200605 ['name', 'geo']\n",
      "run200605 ['HUC_12', 'huc']\n",
      "aet200605 ['name', 'geo']\n",
      "aet200605 ['HUC_12', 'huc']\n",
      "asw200605 ['name', 'geo']\n",
      "asw200605 ['HUC_12', 'huc']\n",
      "rec200606 ['name', 'geo']\n",
      "rec200606 ['HUC_12', 'huc']\n",
      "run200606 ['name', 'geo']\n",
      "run200606 ['HUC_12', 'huc']\n",
      "aet200606 ['name', 'geo']\n",
      "aet200606 ['HUC_12', 'huc']\n",
      "asw200606 ['name', 'geo']\n",
      "asw200606 ['HUC_12', 'huc']\n",
      "rec200607 ['name', 'geo']\n",
      "rec200607 ['HUC_12', 'huc']\n",
      "run200607 ['name', 'geo']\n",
      "run200607 ['HUC_12', 'huc']\n",
      "aet200607 ['name', 'geo']\n",
      "aet200607 ['HUC_12', 'huc']\n",
      "asw200607 ['name', 'geo']\n",
      "asw200607 ['HUC_12', 'huc']\n",
      "rec200608 ['name', 'geo']\n",
      "rec200608 ['HUC_12', 'huc']\n",
      "run200608 ['name', 'geo']\n",
      "run200608 ['HUC_12', 'huc']\n",
      "aet200608 ['name', 'geo']\n",
      "aet200608 ['HUC_12', 'huc']\n",
      "asw200608 ['name', 'geo']\n",
      "asw200608 ['HUC_12', 'huc']\n",
      "rec200609 ['name', 'geo']\n",
      "rec200609 ['HUC_12', 'huc']\n",
      "run200609 ['name', 'geo']\n",
      "run200609 ['HUC_12', 'huc']\n",
      "aet200609 ['name', 'geo']\n",
      "aet200609 ['HUC_12', 'huc']\n",
      "asw200609 ['name', 'geo']\n",
      "asw200609 ['HUC_12', 'huc']\n",
      "rec200610 ['name', 'geo']\n",
      "rec200610 ['HUC_12', 'huc']\n",
      "run200610 ['name', 'geo']\n",
      "run200610 ['HUC_12', 'huc']\n",
      "aet200610 ['name', 'geo']\n",
      "aet200610 ['HUC_12', 'huc']\n",
      "asw200610 ['name', 'geo']\n",
      "asw200610 ['HUC_12', 'huc']\n",
      "rec200611 ['name', 'geo']\n",
      "rec200611 ['HUC_12', 'huc']\n",
      "run200611 ['name', 'geo']\n",
      "run200611 ['HUC_12', 'huc']\n",
      "aet200611 ['name', 'geo']\n",
      "aet200611 ['HUC_12', 'huc']\n",
      "asw200611 ['name', 'geo']\n",
      "asw200611 ['HUC_12', 'huc']\n",
      "rec200612 ['name', 'geo']\n",
      "rec200612 ['HUC_12', 'huc']\n",
      "run200612 ['name', 'geo']\n",
      "run200612 ['HUC_12', 'huc']\n",
      "aet200612 ['name', 'geo']\n",
      "aet200612 ['HUC_12', 'huc']\n",
      "asw200612 ['name', 'geo']\n",
      "asw200612 ['HUC_12', 'huc']\n",
      "rec200701 ['name', 'geo']\n",
      "rec200701 ['HUC_12', 'huc']\n",
      "run200701 ['name', 'geo']\n",
      "run200701 ['HUC_12', 'huc']\n",
      "aet200701 ['name', 'geo']\n",
      "aet200701 ['HUC_12', 'huc']\n",
      "asw200701 ['name', 'geo']\n",
      "asw200701 ['HUC_12', 'huc']\n",
      "rec200702 ['name', 'geo']\n",
      "rec200702 ['HUC_12', 'huc']\n",
      "run200702 ['name', 'geo']\n",
      "run200702 ['HUC_12', 'huc']\n",
      "aet200702 ['name', 'geo']\n",
      "aet200702 ['HUC_12', 'huc']\n",
      "asw200702 ['name', 'geo']\n",
      "asw200702 ['HUC_12', 'huc']\n"
     ]
    },
    {
     "name": "stdout",
     "output_type": "stream",
     "text": [
      "rec200703 ['name', 'geo']\n",
      "rec200703 ['HUC_12', 'huc']\n",
      "run200703 ['name', 'geo']\n",
      "run200703 ['HUC_12', 'huc']\n",
      "aet200703 ['name', 'geo']\n",
      "aet200703 ['HUC_12', 'huc']\n",
      "asw200703 ['name', 'geo']\n",
      "asw200703 ['HUC_12', 'huc']\n",
      "rec200704 ['name', 'geo']\n",
      "rec200704 ['HUC_12', 'huc']\n",
      "run200704 ['name', 'geo']\n",
      "run200704 ['HUC_12', 'huc']\n",
      "aet200704 ['name', 'geo']\n",
      "aet200704 ['HUC_12', 'huc']\n",
      "asw200704 ['name', 'geo']\n",
      "asw200704 ['HUC_12', 'huc']\n",
      "rec200705 ['name', 'geo']\n",
      "rec200705 ['HUC_12', 'huc']\n",
      "run200705 ['name', 'geo']\n",
      "run200705 ['HUC_12', 'huc']\n",
      "aet200705 ['name', 'geo']\n",
      "aet200705 ['HUC_12', 'huc']\n",
      "asw200705 ['name', 'geo']\n",
      "asw200705 ['HUC_12', 'huc']\n",
      "rec200706 ['name', 'geo']\n",
      "rec200706 ['HUC_12', 'huc']\n",
      "run200706 ['name', 'geo']\n",
      "run200706 ['HUC_12', 'huc']\n",
      "aet200706 ['name', 'geo']\n",
      "aet200706 ['HUC_12', 'huc']\n",
      "asw200706 ['name', 'geo']\n",
      "asw200706 ['HUC_12', 'huc']\n",
      "rec200707 ['name', 'geo']\n",
      "rec200707 ['HUC_12', 'huc']\n",
      "run200707 ['name', 'geo']\n",
      "run200707 ['HUC_12', 'huc']\n",
      "aet200707 ['name', 'geo']\n",
      "aet200707 ['HUC_12', 'huc']\n",
      "asw200707 ['name', 'geo']\n",
      "asw200707 ['HUC_12', 'huc']\n",
      "rec200708 ['name', 'geo']\n",
      "rec200708 ['HUC_12', 'huc']\n",
      "run200708 ['name', 'geo']\n",
      "run200708 ['HUC_12', 'huc']\n",
      "aet200708 ['name', 'geo']\n",
      "aet200708 ['HUC_12', 'huc']\n",
      "asw200708 ['name', 'geo']\n",
      "asw200708 ['HUC_12', 'huc']\n",
      "rec200709 ['name', 'geo']\n",
      "rec200709 ['HUC_12', 'huc']\n",
      "run200709 ['name', 'geo']\n",
      "run200709 ['HUC_12', 'huc']\n",
      "aet200709 ['name', 'geo']\n",
      "aet200709 ['HUC_12', 'huc']\n",
      "asw200709 ['name', 'geo']\n",
      "asw200709 ['HUC_12', 'huc']\n",
      "rec200710 ['name', 'geo']\n",
      "rec200710 ['HUC_12', 'huc']\n",
      "run200710 ['name', 'geo']\n",
      "run200710 ['HUC_12', 'huc']\n",
      "aet200710 ['name', 'geo']\n",
      "aet200710 ['HUC_12', 'huc']\n",
      "asw200710 ['name', 'geo']\n",
      "asw200710 ['HUC_12', 'huc']\n",
      "rec200711 ['name', 'geo']\n",
      "rec200711 ['HUC_12', 'huc']\n",
      "run200711 ['name', 'geo']\n",
      "run200711 ['HUC_12', 'huc']\n",
      "aet200711 ['name', 'geo']\n",
      "aet200711 ['HUC_12', 'huc']\n",
      "asw200711 ['name', 'geo']\n",
      "asw200711 ['HUC_12', 'huc']\n",
      "rec200712 ['name', 'geo']\n",
      "rec200712 ['HUC_12', 'huc']\n",
      "run200712 ['name', 'geo']\n",
      "run200712 ['HUC_12', 'huc']\n",
      "aet200712 ['name', 'geo']\n",
      "aet200712 ['HUC_12', 'huc']\n",
      "asw200712 ['name', 'geo']\n",
      "asw200712 ['HUC_12', 'huc']\n",
      "rec200801 ['name', 'geo']\n",
      "rec200801 ['HUC_12', 'huc']\n",
      "run200801 ['name', 'geo']\n",
      "run200801 ['HUC_12', 'huc']\n",
      "aet200801 ['name', 'geo']\n",
      "aet200801 ['HUC_12', 'huc']\n",
      "asw200801 ['name', 'geo']\n",
      "asw200801 ['HUC_12', 'huc']\n",
      "rec200802 ['name', 'geo']\n",
      "rec200802 ['HUC_12', 'huc']\n",
      "run200802 ['name', 'geo']\n",
      "run200802 ['HUC_12', 'huc']\n",
      "aet200802 ['name', 'geo']\n",
      "aet200802 ['HUC_12', 'huc']\n",
      "asw200802 ['name', 'geo']\n",
      "asw200802 ['HUC_12', 'huc']\n",
      "rec200803 ['name', 'geo']\n",
      "rec200803 ['HUC_12', 'huc']\n",
      "run200803 ['name', 'geo']\n",
      "run200803 ['HUC_12', 'huc']\n",
      "aet200803 ['name', 'geo']\n",
      "aet200803 ['HUC_12', 'huc']\n",
      "asw200803 ['name', 'geo']\n",
      "asw200803 ['HUC_12', 'huc']\n",
      "rec200804 ['name', 'geo']\n",
      "rec200804 ['HUC_12', 'huc']\n",
      "run200804 ['name', 'geo']\n",
      "run200804 ['HUC_12', 'huc']\n",
      "aet200804 ['name', 'geo']\n",
      "aet200804 ['HUC_12', 'huc']\n",
      "asw200804 ['name', 'geo']\n",
      "asw200804 ['HUC_12', 'huc']\n",
      "rec200805 ['name', 'geo']\n",
      "rec200805 ['HUC_12', 'huc']\n",
      "run200805 ['name', 'geo']\n",
      "run200805 ['HUC_12', 'huc']\n",
      "aet200805 ['name', 'geo']\n",
      "aet200805 ['HUC_12', 'huc']\n",
      "asw200805 ['name', 'geo']\n",
      "asw200805 ['HUC_12', 'huc']\n",
      "rec200806 ['name', 'geo']\n",
      "rec200806 ['HUC_12', 'huc']\n",
      "run200806 ['name', 'geo']\n",
      "run200806 ['HUC_12', 'huc']\n",
      "aet200806 ['name', 'geo']\n",
      "aet200806 ['HUC_12', 'huc']\n",
      "asw200806 ['name', 'geo']\n",
      "asw200806 ['HUC_12', 'huc']\n",
      "rec200807 ['name', 'geo']\n",
      "rec200807 ['HUC_12', 'huc']\n",
      "run200807 ['name', 'geo']\n",
      "run200807 ['HUC_12', 'huc']\n",
      "aet200807 ['name', 'geo']\n",
      "aet200807 ['HUC_12', 'huc']\n",
      "asw200807 ['name', 'geo']\n",
      "asw200807 ['HUC_12', 'huc']\n",
      "rec200808 ['name', 'geo']\n",
      "rec200808 ['HUC_12', 'huc']\n",
      "run200808 ['name', 'geo']\n",
      "run200808 ['HUC_12', 'huc']\n",
      "aet200808 ['name', 'geo']\n",
      "aet200808 ['HUC_12', 'huc']\n",
      "asw200808 ['name', 'geo']\n",
      "asw200808 ['HUC_12', 'huc']\n",
      "rec200809 ['name', 'geo']\n",
      "rec200809 ['HUC_12', 'huc']\n",
      "run200809 ['name', 'geo']\n",
      "run200809 ['HUC_12', 'huc']\n",
      "aet200809 ['name', 'geo']\n",
      "aet200809 ['HUC_12', 'huc']\n",
      "asw200809 ['name', 'geo']\n",
      "asw200809 ['HUC_12', 'huc']\n",
      "rec200810 ['name', 'geo']\n",
      "rec200810 ['HUC_12', 'huc']\n",
      "run200810 ['name', 'geo']\n",
      "run200810 ['HUC_12', 'huc']\n",
      "aet200810 ['name', 'geo']\n",
      "aet200810 ['HUC_12', 'huc']\n",
      "asw200810 ['name', 'geo']\n",
      "asw200810 ['HUC_12', 'huc']\n",
      "rec200811 ['name', 'geo']\n",
      "rec200811 ['HUC_12', 'huc']\n",
      "run200811 ['name', 'geo']\n",
      "run200811 ['HUC_12', 'huc']\n",
      "aet200811 ['name', 'geo']\n",
      "aet200811 ['HUC_12', 'huc']\n",
      "asw200811 ['name', 'geo']\n",
      "asw200811 ['HUC_12', 'huc']\n",
      "rec200812 ['name', 'geo']\n",
      "rec200812 ['HUC_12', 'huc']\n",
      "run200812 ['name', 'geo']\n",
      "run200812 ['HUC_12', 'huc']\n",
      "aet200812 ['name', 'geo']\n",
      "aet200812 ['HUC_12', 'huc']\n",
      "asw200812 ['name', 'geo']\n",
      "asw200812 ['HUC_12', 'huc']\n",
      "rec200901 ['name', 'geo']\n",
      "rec200901 ['HUC_12', 'huc']\n",
      "run200901 ['name', 'geo']\n",
      "run200901 ['HUC_12', 'huc']\n",
      "aet200901 ['name', 'geo']\n",
      "aet200901 ['HUC_12', 'huc']\n",
      "asw200901 ['name', 'geo']\n",
      "asw200901 ['HUC_12', 'huc']\n",
      "rec200902 ['name', 'geo']\n",
      "rec200902 ['HUC_12', 'huc']\n",
      "run200902 ['name', 'geo']\n",
      "run200902 ['HUC_12', 'huc']\n",
      "aet200902 ['name', 'geo']\n",
      "aet200902 ['HUC_12', 'huc']\n",
      "asw200902 ['name', 'geo']\n",
      "asw200902 ['HUC_12', 'huc']\n",
      "rec200903 ['name', 'geo']\n",
      "rec200903 ['HUC_12', 'huc']\n",
      "run200903 ['name', 'geo']\n",
      "run200903 ['HUC_12', 'huc']\n",
      "aet200903 ['name', 'geo']\n",
      "aet200903 ['HUC_12', 'huc']\n",
      "asw200903 ['name', 'geo']\n",
      "asw200903 ['HUC_12', 'huc']\n",
      "rec200904 ['name', 'geo']\n",
      "rec200904 ['HUC_12', 'huc']\n",
      "run200904 ['name', 'geo']\n",
      "run200904 ['HUC_12', 'huc']\n",
      "aet200904 ['name', 'geo']\n",
      "aet200904 ['HUC_12', 'huc']\n",
      "asw200904 ['name', 'geo']\n",
      "asw200904 ['HUC_12', 'huc']\n",
      "rec200905 ['name', 'geo']\n",
      "rec200905 ['HUC_12', 'huc']\n",
      "run200905 ['name', 'geo']\n",
      "run200905 ['HUC_12', 'huc']\n",
      "aet200905 ['name', 'geo']\n",
      "aet200905 ['HUC_12', 'huc']\n",
      "asw200905 ['name', 'geo']\n",
      "asw200905 ['HUC_12', 'huc']\n",
      "rec200906 ['name', 'geo']\n",
      "rec200906 ['HUC_12', 'huc']\n",
      "run200906 ['name', 'geo']\n",
      "run200906 ['HUC_12', 'huc']\n",
      "aet200906 ['name', 'geo']\n",
      "aet200906 ['HUC_12', 'huc']\n",
      "asw200906 ['name', 'geo']\n",
      "asw200906 ['HUC_12', 'huc']\n",
      "rec200907 ['name', 'geo']\n",
      "rec200907 ['HUC_12', 'huc']\n",
      "run200907 ['name', 'geo']\n",
      "run200907 ['HUC_12', 'huc']\n",
      "aet200907 ['name', 'geo']\n",
      "aet200907 ['HUC_12', 'huc']\n",
      "asw200907 ['name', 'geo']\n",
      "asw200907 ['HUC_12', 'huc']\n",
      "rec200908 ['name', 'geo']\n",
      "rec200908 ['HUC_12', 'huc']\n",
      "run200908 ['name', 'geo']\n",
      "run200908 ['HUC_12', 'huc']\n",
      "aet200908 ['name', 'geo']\n",
      "aet200908 ['HUC_12', 'huc']\n",
      "asw200908 ['name', 'geo']\n",
      "asw200908 ['HUC_12', 'huc']\n",
      "rec200909 ['name', 'geo']\n",
      "rec200909 ['HUC_12', 'huc']\n",
      "run200909 ['name', 'geo']\n",
      "run200909 ['HUC_12', 'huc']\n",
      "aet200909 ['name', 'geo']\n",
      "aet200909 ['HUC_12', 'huc']\n",
      "asw200909 ['name', 'geo']\n",
      "asw200909 ['HUC_12', 'huc']\n",
      "rec200910 ['name', 'geo']\n",
      "rec200910 ['HUC_12', 'huc']\n",
      "run200910 ['name', 'geo']\n",
      "run200910 ['HUC_12', 'huc']\n",
      "aet200910 ['name', 'geo']\n",
      "aet200910 ['HUC_12', 'huc']\n",
      "asw200910 ['name', 'geo']\n",
      "asw200910 ['HUC_12', 'huc']\n",
      "rec200911 ['name', 'geo']\n",
      "rec200911 ['HUC_12', 'huc']\n",
      "run200911 ['name', 'geo']\n",
      "run200911 ['HUC_12', 'huc']\n",
      "aet200911 ['name', 'geo']\n",
      "aet200911 ['HUC_12', 'huc']\n",
      "asw200911 ['name', 'geo']\n",
      "asw200911 ['HUC_12', 'huc']\n",
      "rec200912 ['name', 'geo']\n",
      "rec200912 ['HUC_12', 'huc']\n",
      "run200912 ['name', 'geo']\n",
      "run200912 ['HUC_12', 'huc']\n",
      "aet200912 ['name', 'geo']\n",
      "aet200912 ['HUC_12', 'huc']\n",
      "asw200912 ['name', 'geo']\n",
      "asw200912 ['HUC_12', 'huc']\n",
      "rec201001 ['name', 'geo']\n",
      "rec201001 ['HUC_12', 'huc']\n",
      "run201001 ['name', 'geo']\n",
      "run201001 ['HUC_12', 'huc']\n",
      "aet201001 ['name', 'geo']\n",
      "aet201001 ['HUC_12', 'huc']\n",
      "asw201001 ['name', 'geo']\n",
      "asw201001 ['HUC_12', 'huc']\n",
      "rec201002 ['name', 'geo']\n",
      "rec201002 ['HUC_12', 'huc']\n",
      "run201002 ['name', 'geo']\n",
      "run201002 ['HUC_12', 'huc']\n",
      "aet201002 ['name', 'geo']\n",
      "aet201002 ['HUC_12', 'huc']\n",
      "asw201002 ['name', 'geo']\n",
      "asw201002 ['HUC_12', 'huc']\n",
      "rec201003 ['name', 'geo']\n",
      "rec201003 ['HUC_12', 'huc']\n",
      "run201003 ['name', 'geo']\n",
      "run201003 ['HUC_12', 'huc']\n",
      "aet201003 ['name', 'geo']\n",
      "aet201003 ['HUC_12', 'huc']\n",
      "asw201003 ['name', 'geo']\n",
      "asw201003 ['HUC_12', 'huc']\n",
      "rec201004 ['name', 'geo']\n",
      "rec201004 ['HUC_12', 'huc']\n",
      "run201004 ['name', 'geo']\n",
      "run201004 ['HUC_12', 'huc']\n",
      "aet201004 ['name', 'geo']\n",
      "aet201004 ['HUC_12', 'huc']\n",
      "asw201004 ['name', 'geo']\n",
      "asw201004 ['HUC_12', 'huc']\n"
     ]
    },
    {
     "name": "stdout",
     "output_type": "stream",
     "text": [
      "rec201005 ['name', 'geo']\n",
      "rec201005 ['HUC_12', 'huc']\n",
      "run201005 ['name', 'geo']\n",
      "run201005 ['HUC_12', 'huc']\n",
      "aet201005 ['name', 'geo']\n",
      "aet201005 ['HUC_12', 'huc']\n",
      "asw201005 ['name', 'geo']\n",
      "asw201005 ['HUC_12', 'huc']\n",
      "rec201006 ['name', 'geo']\n",
      "rec201006 ['HUC_12', 'huc']\n",
      "run201006 ['name', 'geo']\n",
      "run201006 ['HUC_12', 'huc']\n",
      "aet201006 ['name', 'geo']\n",
      "aet201006 ['HUC_12', 'huc']\n",
      "asw201006 ['name', 'geo']\n",
      "asw201006 ['HUC_12', 'huc']\n",
      "rec201007 ['name', 'geo']\n",
      "rec201007 ['HUC_12', 'huc']\n",
      "run201007 ['name', 'geo']\n",
      "run201007 ['HUC_12', 'huc']\n",
      "aet201007 ['name', 'geo']\n",
      "aet201007 ['HUC_12', 'huc']\n",
      "asw201007 ['name', 'geo']\n",
      "asw201007 ['HUC_12', 'huc']\n",
      "rec201008 ['name', 'geo']\n",
      "rec201008 ['HUC_12', 'huc']\n",
      "run201008 ['name', 'geo']\n",
      "run201008 ['HUC_12', 'huc']\n",
      "aet201008 ['name', 'geo']\n",
      "aet201008 ['HUC_12', 'huc']\n",
      "asw201008 ['name', 'geo']\n",
      "asw201008 ['HUC_12', 'huc']\n",
      "rec201009 ['name', 'geo']\n",
      "rec201009 ['HUC_12', 'huc']\n",
      "run201009 ['name', 'geo']\n",
      "run201009 ['HUC_12', 'huc']\n",
      "aet201009 ['name', 'geo']\n",
      "aet201009 ['HUC_12', 'huc']\n",
      "asw201009 ['name', 'geo']\n",
      "asw201009 ['HUC_12', 'huc']\n",
      "rec201010 ['name', 'geo']\n",
      "rec201010 ['HUC_12', 'huc']\n",
      "run201010 ['name', 'geo']\n",
      "run201010 ['HUC_12', 'huc']\n",
      "aet201010 ['name', 'geo']\n",
      "aet201010 ['HUC_12', 'huc']\n",
      "asw201010 ['name', 'geo']\n",
      "asw201010 ['HUC_12', 'huc']\n",
      "rec201011 ['name', 'geo']\n",
      "rec201011 ['HUC_12', 'huc']\n",
      "run201011 ['name', 'geo']\n",
      "run201011 ['HUC_12', 'huc']\n",
      "aet201011 ['name', 'geo']\n",
      "aet201011 ['HUC_12', 'huc']\n",
      "asw201011 ['name', 'geo']\n",
      "asw201011 ['HUC_12', 'huc']\n",
      "rec201012 ['name', 'geo']\n",
      "rec201012 ['HUC_12', 'huc']\n",
      "run201012 ['name', 'geo']\n",
      "run201012 ['HUC_12', 'huc']\n",
      "aet201012 ['name', 'geo']\n",
      "aet201012 ['HUC_12', 'huc']\n",
      "asw201012 ['name', 'geo']\n",
      "asw201012 ['HUC_12', 'huc']\n",
      "rec201101 ['name', 'geo']\n",
      "rec201101 ['HUC_12', 'huc']\n",
      "run201101 ['name', 'geo']\n",
      "run201101 ['HUC_12', 'huc']\n",
      "aet201101 ['name', 'geo']\n",
      "aet201101 ['HUC_12', 'huc']\n",
      "asw201101 ['name', 'geo']\n",
      "asw201101 ['HUC_12', 'huc']\n",
      "rec201102 ['name', 'geo']\n",
      "rec201102 ['HUC_12', 'huc']\n",
      "run201102 ['name', 'geo']\n",
      "run201102 ['HUC_12', 'huc']\n",
      "aet201102 ['name', 'geo']\n",
      "aet201102 ['HUC_12', 'huc']\n",
      "asw201102 ['name', 'geo']\n",
      "asw201102 ['HUC_12', 'huc']\n",
      "rec201103 ['name', 'geo']\n",
      "rec201103 ['HUC_12', 'huc']\n",
      "run201103 ['name', 'geo']\n",
      "run201103 ['HUC_12', 'huc']\n",
      "aet201103 ['name', 'geo']\n",
      "aet201103 ['HUC_12', 'huc']\n",
      "asw201103 ['name', 'geo']\n",
      "asw201103 ['HUC_12', 'huc']\n",
      "rec201104 ['name', 'geo']\n",
      "rec201104 ['HUC_12', 'huc']\n",
      "run201104 ['name', 'geo']\n",
      "run201104 ['HUC_12', 'huc']\n",
      "aet201104 ['name', 'geo']\n",
      "aet201104 ['HUC_12', 'huc']\n",
      "asw201104 ['name', 'geo']\n",
      "asw201104 ['HUC_12', 'huc']\n",
      "rec201105 ['name', 'geo']\n",
      "rec201105 ['HUC_12', 'huc']\n",
      "run201105 ['name', 'geo']\n",
      "run201105 ['HUC_12', 'huc']\n",
      "aet201105 ['name', 'geo']\n",
      "aet201105 ['HUC_12', 'huc']\n",
      "asw201105 ['name', 'geo']\n",
      "asw201105 ['HUC_12', 'huc']\n",
      "rec201106 ['name', 'geo']\n",
      "rec201106 ['HUC_12', 'huc']\n",
      "run201106 ['name', 'geo']\n",
      "run201106 ['HUC_12', 'huc']\n",
      "aet201106 ['name', 'geo']\n",
      "aet201106 ['HUC_12', 'huc']\n",
      "asw201106 ['name', 'geo']\n",
      "asw201106 ['HUC_12', 'huc']\n",
      "rec201107 ['name', 'geo']\n",
      "rec201107 ['HUC_12', 'huc']\n",
      "run201107 ['name', 'geo']\n",
      "run201107 ['HUC_12', 'huc']\n",
      "aet201107 ['name', 'geo']\n",
      "aet201107 ['HUC_12', 'huc']\n",
      "asw201107 ['name', 'geo']\n",
      "asw201107 ['HUC_12', 'huc']\n",
      "rec201108 ['name', 'geo']\n",
      "rec201108 ['HUC_12', 'huc']\n",
      "run201108 ['name', 'geo']\n",
      "run201108 ['HUC_12', 'huc']\n",
      "aet201108 ['name', 'geo']\n",
      "aet201108 ['HUC_12', 'huc']\n",
      "asw201108 ['name', 'geo']\n",
      "asw201108 ['HUC_12', 'huc']\n",
      "rec201109 ['name', 'geo']\n",
      "rec201109 ['HUC_12', 'huc']\n",
      "run201109 ['name', 'geo']\n",
      "run201109 ['HUC_12', 'huc']\n",
      "aet201109 ['name', 'geo']\n",
      "aet201109 ['HUC_12', 'huc']\n",
      "asw201109 ['name', 'geo']\n",
      "asw201109 ['HUC_12', 'huc']\n",
      "rec201110 ['name', 'geo']\n",
      "rec201110 ['HUC_12', 'huc']\n",
      "run201110 ['name', 'geo']\n",
      "run201110 ['HUC_12', 'huc']\n",
      "aet201110 ['name', 'geo']\n",
      "aet201110 ['HUC_12', 'huc']\n",
      "asw201110 ['name', 'geo']\n",
      "asw201110 ['HUC_12', 'huc']\n",
      "rec201111 ['name', 'geo']\n",
      "rec201111 ['HUC_12', 'huc']\n",
      "run201111 ['name', 'geo']\n",
      "run201111 ['HUC_12', 'huc']\n",
      "aet201111 ['name', 'geo']\n",
      "aet201111 ['HUC_12', 'huc']\n",
      "asw201111 ['name', 'geo']\n",
      "asw201111 ['HUC_12', 'huc']\n",
      "rec201112 ['name', 'geo']\n",
      "rec201112 ['HUC_12', 'huc']\n",
      "run201112 ['name', 'geo']\n",
      "run201112 ['HUC_12', 'huc']\n",
      "aet201112 ['name', 'geo']\n",
      "aet201112 ['HUC_12', 'huc']\n",
      "asw201112 ['name', 'geo']\n",
      "asw201112 ['HUC_12', 'huc']\n",
      "rec201201 ['name', 'geo']\n",
      "rec201201 ['HUC_12', 'huc']\n",
      "run201201 ['name', 'geo']\n",
      "run201201 ['HUC_12', 'huc']\n",
      "aet201201 ['name', 'geo']\n",
      "aet201201 ['HUC_12', 'huc']\n",
      "asw201201 ['name', 'geo']\n",
      "asw201201 ['HUC_12', 'huc']\n",
      "rec201202 ['name', 'geo']\n",
      "rec201202 ['HUC_12', 'huc']\n",
      "run201202 ['name', 'geo']\n",
      "run201202 ['HUC_12', 'huc']\n",
      "aet201202 ['name', 'geo']\n",
      "aet201202 ['HUC_12', 'huc']\n",
      "asw201202 ['name', 'geo']\n",
      "asw201202 ['HUC_12', 'huc']\n",
      "rec201203 ['name', 'geo']\n",
      "rec201203 ['HUC_12', 'huc']\n",
      "run201203 ['name', 'geo']\n",
      "run201203 ['HUC_12', 'huc']\n",
      "aet201203 ['name', 'geo']\n",
      "aet201203 ['HUC_12', 'huc']\n",
      "asw201203 ['name', 'geo']\n",
      "asw201203 ['HUC_12', 'huc']\n",
      "rec201204 ['name', 'geo']\n",
      "rec201204 ['HUC_12', 'huc']\n",
      "run201204 ['name', 'geo']\n",
      "run201204 ['HUC_12', 'huc']\n",
      "aet201204 ['name', 'geo']\n",
      "aet201204 ['HUC_12', 'huc']\n",
      "asw201204 ['name', 'geo']\n",
      "asw201204 ['HUC_12', 'huc']\n",
      "rec201205 ['name', 'geo']\n",
      "rec201205 ['HUC_12', 'huc']\n",
      "run201205 ['name', 'geo']\n",
      "run201205 ['HUC_12', 'huc']\n",
      "aet201205 ['name', 'geo']\n",
      "aet201205 ['HUC_12', 'huc']\n",
      "asw201205 ['name', 'geo']\n",
      "asw201205 ['HUC_12', 'huc']\n",
      "rec201206 ['name', 'geo']\n",
      "rec201206 ['HUC_12', 'huc']\n",
      "run201206 ['name', 'geo']\n",
      "run201206 ['HUC_12', 'huc']\n",
      "aet201206 ['name', 'geo']\n",
      "aet201206 ['HUC_12', 'huc']\n",
      "asw201206 ['name', 'geo']\n",
      "asw201206 ['HUC_12', 'huc']\n",
      "rec201207 ['name', 'geo']\n",
      "rec201207 ['HUC_12', 'huc']\n",
      "run201207 ['name', 'geo']\n",
      "run201207 ['HUC_12', 'huc']\n",
      "aet201207 ['name', 'geo']\n",
      "aet201207 ['HUC_12', 'huc']\n",
      "asw201207 ['name', 'geo']\n",
      "asw201207 ['HUC_12', 'huc']\n",
      "rec201208 ['name', 'geo']\n",
      "rec201208 ['HUC_12', 'huc']\n",
      "run201208 ['name', 'geo']\n",
      "run201208 ['HUC_12', 'huc']\n",
      "aet201208 ['name', 'geo']\n",
      "aet201208 ['HUC_12', 'huc']\n",
      "asw201208 ['name', 'geo']\n",
      "asw201208 ['HUC_12', 'huc']\n",
      "rec201209 ['name', 'geo']\n",
      "rec201209 ['HUC_12', 'huc']\n",
      "run201209 ['name', 'geo']\n",
      "run201209 ['HUC_12', 'huc']\n",
      "aet201209 ['name', 'geo']\n",
      "aet201209 ['HUC_12', 'huc']\n",
      "asw201209 ['name', 'geo']\n",
      "asw201209 ['HUC_12', 'huc']\n",
      "rec201210 ['name', 'geo']\n",
      "rec201210 ['HUC_12', 'huc']\n",
      "run201210 ['name', 'geo']\n",
      "run201210 ['HUC_12', 'huc']\n",
      "aet201210 ['name', 'geo']\n",
      "aet201210 ['HUC_12', 'huc']\n",
      "asw201210 ['name', 'geo']\n",
      "asw201210 ['HUC_12', 'huc']\n",
      "rec201211 ['name', 'geo']\n",
      "rec201211 ['HUC_12', 'huc']\n",
      "run201211 ['name', 'geo']\n",
      "run201211 ['HUC_12', 'huc']\n",
      "aet201211 ['name', 'geo']\n",
      "aet201211 ['HUC_12', 'huc']\n",
      "asw201211 ['name', 'geo']\n",
      "asw201211 ['HUC_12', 'huc']\n",
      "rec201212 ['name', 'geo']\n",
      "rec201212 ['HUC_12', 'huc']\n",
      "run201212 ['name', 'geo']\n",
      "run201212 ['HUC_12', 'huc']\n",
      "aet201212 ['name', 'geo']\n",
      "aet201212 ['HUC_12', 'huc']\n",
      "asw201212 ['name', 'geo']\n",
      "asw201212 ['HUC_12', 'huc']\n",
      "rec201301 ['name', 'geo']\n",
      "rec201301 ['HUC_12', 'huc']\n",
      "run201301 ['name', 'geo']\n",
      "run201301 ['HUC_12', 'huc']\n",
      "aet201301 ['name', 'geo']\n",
      "aet201301 ['HUC_12', 'huc']\n",
      "asw201301 ['name', 'geo']\n",
      "asw201301 ['HUC_12', 'huc']\n",
      "rec201302 ['name', 'geo']\n",
      "rec201302 ['HUC_12', 'huc']\n",
      "run201302 ['name', 'geo']\n",
      "run201302 ['HUC_12', 'huc']\n",
      "aet201302 ['name', 'geo']\n",
      "aet201302 ['HUC_12', 'huc']\n",
      "asw201302 ['name', 'geo']\n",
      "asw201302 ['HUC_12', 'huc']\n",
      "rec201303 ['name', 'geo']\n",
      "rec201303 ['HUC_12', 'huc']\n",
      "run201303 ['name', 'geo']\n",
      "run201303 ['HUC_12', 'huc']\n",
      "aet201303 ['name', 'geo']\n",
      "aet201303 ['HUC_12', 'huc']\n",
      "asw201303 ['name', 'geo']\n",
      "asw201303 ['HUC_12', 'huc']\n",
      "rec201304 ['name', 'geo']\n",
      "rec201304 ['HUC_12', 'huc']\n",
      "run201304 ['name', 'geo']\n",
      "run201304 ['HUC_12', 'huc']\n",
      "aet201304 ['name', 'geo']\n",
      "aet201304 ['HUC_12', 'huc']\n",
      "asw201304 ['name', 'geo']\n",
      "asw201304 ['HUC_12', 'huc']\n",
      "rec201305 ['name', 'geo']\n",
      "rec201305 ['HUC_12', 'huc']\n",
      "run201305 ['name', 'geo']\n",
      "run201305 ['HUC_12', 'huc']\n",
      "aet201305 ['name', 'geo']\n",
      "aet201305 ['HUC_12', 'huc']\n",
      "asw201305 ['name', 'geo']\n",
      "asw201305 ['HUC_12', 'huc']\n",
      "rec201306 ['name', 'geo']\n",
      "rec201306 ['HUC_12', 'huc']\n",
      "run201306 ['name', 'geo']\n",
      "run201306 ['HUC_12', 'huc']\n",
      "aet201306 ['name', 'geo']\n",
      "aet201306 ['HUC_12', 'huc']\n",
      "asw201306 ['name', 'geo']\n",
      "asw201306 ['HUC_12', 'huc']\n"
     ]
    },
    {
     "name": "stdout",
     "output_type": "stream",
     "text": [
      "rec201307 ['name', 'geo']\n",
      "rec201307 ['HUC_12', 'huc']\n",
      "run201307 ['name', 'geo']\n",
      "run201307 ['HUC_12', 'huc']\n",
      "aet201307 ['name', 'geo']\n",
      "aet201307 ['HUC_12', 'huc']\n",
      "asw201307 ['name', 'geo']\n",
      "asw201307 ['HUC_12', 'huc']\n",
      "rec201308 ['name', 'geo']\n",
      "rec201308 ['HUC_12', 'huc']\n",
      "run201308 ['name', 'geo']\n",
      "run201308 ['HUC_12', 'huc']\n",
      "aet201308 ['name', 'geo']\n",
      "aet201308 ['HUC_12', 'huc']\n",
      "asw201308 ['name', 'geo']\n",
      "asw201308 ['HUC_12', 'huc']\n",
      "rec201309 ['name', 'geo']\n",
      "rec201309 ['HUC_12', 'huc']\n",
      "run201309 ['name', 'geo']\n",
      "run201309 ['HUC_12', 'huc']\n",
      "aet201309 ['name', 'geo']\n",
      "aet201309 ['HUC_12', 'huc']\n",
      "asw201309 ['name', 'geo']\n",
      "asw201309 ['HUC_12', 'huc']\n",
      "rec201310 ['name', 'geo']\n",
      "rec201310 ['HUC_12', 'huc']\n",
      "run201310 ['name', 'geo']\n",
      "run201310 ['HUC_12', 'huc']\n",
      "aet201310 ['name', 'geo']\n",
      "aet201310 ['HUC_12', 'huc']\n",
      "asw201310 ['name', 'geo']\n",
      "asw201310 ['HUC_12', 'huc']\n",
      "rec201311 ['name', 'geo']\n",
      "rec201311 ['HUC_12', 'huc']\n",
      "run201311 ['name', 'geo']\n",
      "run201311 ['HUC_12', 'huc']\n",
      "aet201311 ['name', 'geo']\n",
      "aet201311 ['HUC_12', 'huc']\n",
      "asw201311 ['name', 'geo']\n",
      "asw201311 ['HUC_12', 'huc']\n",
      "rec201312 ['name', 'geo']\n",
      "rec201312 ['HUC_12', 'huc']\n",
      "run201312 ['name', 'geo']\n",
      "run201312 ['HUC_12', 'huc']\n",
      "aet201312 ['name', 'geo']\n",
      "aet201312 ['HUC_12', 'huc']\n",
      "asw201312 ['name', 'geo']\n",
      "asw201312 ['HUC_12', 'huc']\n",
      "rec201401 ['name', 'geo']\n",
      "rec201401 ['HUC_12', 'huc']\n",
      "run201401 ['name', 'geo']\n",
      "run201401 ['HUC_12', 'huc']\n",
      "aet201401 ['name', 'geo']\n",
      "aet201401 ['HUC_12', 'huc']\n",
      "asw201401 ['name', 'geo']\n",
      "asw201401 ['HUC_12', 'huc']\n",
      "rec201402 ['name', 'geo']\n",
      "rec201402 ['HUC_12', 'huc']\n",
      "run201402 ['name', 'geo']\n",
      "run201402 ['HUC_12', 'huc']\n",
      "aet201402 ['name', 'geo']\n",
      "aet201402 ['HUC_12', 'huc']\n",
      "asw201402 ['name', 'geo']\n",
      "asw201402 ['HUC_12', 'huc']\n",
      "rec201403 ['name', 'geo']\n",
      "rec201403 ['HUC_12', 'huc']\n",
      "run201403 ['name', 'geo']\n",
      "run201403 ['HUC_12', 'huc']\n",
      "aet201403 ['name', 'geo']\n",
      "aet201403 ['HUC_12', 'huc']\n",
      "asw201403 ['name', 'geo']\n",
      "asw201403 ['HUC_12', 'huc']\n",
      "rec201404 ['name', 'geo']\n",
      "rec201404 ['HUC_12', 'huc']\n",
      "run201404 ['name', 'geo']\n",
      "run201404 ['HUC_12', 'huc']\n",
      "aet201404 ['name', 'geo']\n",
      "aet201404 ['HUC_12', 'huc']\n",
      "asw201404 ['name', 'geo']\n",
      "asw201404 ['HUC_12', 'huc']\n",
      "rec201405 ['name', 'geo']\n",
      "rec201405 ['HUC_12', 'huc']\n",
      "run201405 ['name', 'geo']\n",
      "run201405 ['HUC_12', 'huc']\n",
      "aet201405 ['name', 'geo']\n",
      "aet201405 ['HUC_12', 'huc']\n",
      "asw201405 ['name', 'geo']\n",
      "asw201405 ['HUC_12', 'huc']\n",
      "rec201406 ['name', 'geo']\n",
      "rec201406 ['HUC_12', 'huc']\n",
      "run201406 ['name', 'geo']\n",
      "run201406 ['HUC_12', 'huc']\n",
      "aet201406 ['name', 'geo']\n",
      "aet201406 ['HUC_12', 'huc']\n",
      "asw201406 ['name', 'geo']\n",
      "asw201406 ['HUC_12', 'huc']\n",
      "rec201407 ['name', 'geo']\n",
      "rec201407 ['HUC_12', 'huc']\n",
      "run201407 ['name', 'geo']\n",
      "run201407 ['HUC_12', 'huc']\n",
      "aet201407 ['name', 'geo']\n",
      "aet201407 ['HUC_12', 'huc']\n",
      "asw201407 ['name', 'geo']\n",
      "asw201407 ['HUC_12', 'huc']\n",
      "rec201408 ['name', 'geo']\n",
      "rec201408 ['HUC_12', 'huc']\n",
      "run201408 ['name', 'geo']\n",
      "run201408 ['HUC_12', 'huc']\n",
      "aet201408 ['name', 'geo']\n",
      "aet201408 ['HUC_12', 'huc']\n",
      "asw201408 ['name', 'geo']\n",
      "asw201408 ['HUC_12', 'huc']\n",
      "rec201409 ['name', 'geo']\n",
      "rec201409 ['HUC_12', 'huc']\n",
      "run201409 ['name', 'geo']\n",
      "run201409 ['HUC_12', 'huc']\n",
      "aet201409 ['name', 'geo']\n",
      "aet201409 ['HUC_12', 'huc']\n",
      "asw201409 ['name', 'geo']\n",
      "asw201409 ['HUC_12', 'huc']\n",
      "rec201410 ['name', 'geo']\n",
      "rec201410 ['HUC_12', 'huc']\n",
      "run201410 ['name', 'geo']\n",
      "run201410 ['HUC_12', 'huc']\n",
      "aet201410 ['name', 'geo']\n",
      "aet201410 ['HUC_12', 'huc']\n",
      "asw201410 ['name', 'geo']\n",
      "asw201410 ['HUC_12', 'huc']\n",
      "rec201411 ['name', 'geo']\n",
      "rec201411 ['HUC_12', 'huc']\n",
      "run201411 ['name', 'geo']\n",
      "run201411 ['HUC_12', 'huc']\n",
      "aet201411 ['name', 'geo']\n",
      "aet201411 ['HUC_12', 'huc']\n",
      "asw201411 ['name', 'geo']\n",
      "asw201411 ['HUC_12', 'huc']\n",
      "rec201412 ['name', 'geo']\n",
      "rec201412 ['HUC_12', 'huc']\n",
      "run201412 ['name', 'geo']\n",
      "run201412 ['HUC_12', 'huc']\n",
      "aet201412 ['name', 'geo']\n",
      "aet201412 ['HUC_12', 'huc']\n",
      "asw201412 ['name', 'geo']\n",
      "asw201412 ['HUC_12', 'huc']\n"
     ]
    }
   ],
   "source": [
    "arcpy.env.overwriteOutput = True\n",
    "# Set environment settings\n",
    "arcpy.env.workspace = \"E:/PROJECTS/Round_Valley/UBM/UBM_RESAMP.gdb\"\n",
    "\n",
    "# Set local variables\n",
    "inZoneData = {\"E:/PROJECTS/Round_Valley/UBM_Zonal.gdb/GeoZones\":[\"name\",\"geo\"],\n",
    "              \"E:/PROJECTS/Round_Valley/UBM_Zonal.gdb/HUC_Zones\":[\"HUC_12\",\"huc\"]}\n",
    "\n",
    "zoneField = \"Permanent_Identifier\"\n",
    "\n",
    "for rast in arcpy.ListRasters():\n",
    "    for key,value in inZoneData.items():\n",
    "        outTable = \"E:/PROJECTS/Round_Valley/UBM_Zonal2.gdb/{:}_{:}\".format(value[1],rast)\n",
    "        outZSaT = ZonalStatisticsAsTable(key, value[0], rast, outTable, \"DATA\", \"MEAN\")\n",
    "        print(rast, value)"
   ]
  },
  {
   "cell_type": "code",
   "execution_count": null,
   "metadata": {
    "ExecuteTime": {
     "start_time": "2018-04-05T13:10:06.324Z"
    }
   },
   "outputs": [],
   "source": [
    "arcpy.env.overwriteOutput = True\n",
    "# Set environment settings\n",
    "arcpy.env.workspace = \"E:/GIS/UBM/Available_Water.gdb\"\n",
    "\n",
    "# Set local variables\n",
    "inZoneData = {\"E:/PROJECTS/Round_Valley/UBM_Zonal.gdb/GeoZones\":[\"name\",\"geo\"],\n",
    "              \"E:/PROJECTS/Round_Valley/UBM_Zonal.gdb/HUC_Zones\":[\"HUC_12\",\"huc\"]}\n",
    "\n",
    "for rast in arcpy.ListRasters():\n",
    "    for key,value in inZoneData.items():\n",
    "        outTable = \"E:/PROJECTS/Round_Valley/AVWT_Zonal.gdb/{:}_{:}\".format(value[1],rast)\n",
    "        outZSaT = ZonalStatisticsAsTable(key, value[0], rast, outTable, \"DATA\", \"MEAN\")\n"
   ]
  },
  {
   "cell_type": "code",
   "execution_count": 7,
   "metadata": {
    "ExecuteTime": {
     "end_time": "2018-04-05T13:58:00.120936Z",
     "start_time": "2018-04-05T13:58:00.105331Z"
    }
   },
   "outputs": [],
   "source": [
    "def calcvols(searchStr='*', stat='MEAN', mult = 1.0):\n",
    "    tables = arcpy.ListTables(searchStr)    \n",
    "    f = {}\n",
    "    for table in tables:\n",
    "        fields = arcpy.ListFields(table)\n",
    "        #for table in prism_tables:\n",
    "        fieldlist = [field.name for field in fields]\n",
    "        f[table] = pd.DataFrame(arcpy.da.TableToNumPyArray(table,fieldlist))\n",
    "    g = pd.concat(f)\n",
    "    g.reset_index(inplace=True)\n",
    "\n",
    "    g['raster_name'] = g['level_0'].apply(lambda x: str(x),1)\n",
    "    g['datav'] = g['level_0'].apply(lambda x: str(x)[:4],1)\n",
    "    g['YearMonth'] = g['level_0'].apply(lambda x: str(x)[-6:],1)\n",
    "    g['Year'] = g['level_0'].apply(lambda x: str(x)[-6:-2],1)\n",
    "    g['Month'] = g['level_0'].apply(lambda x: str(x)[-2:],1)\n",
    "\n",
    "    g.drop(['level_0','level_1','OBJECTID','ZONE_CODE'],axis=1,inplace=True)\n",
    "    g['SOURCE'] = \"SNODAS\"\n",
    "\n",
    "    g['volume_m_cubed'] = g[[stat,'AREA']].apply(lambda x: round(x[0]*x[1]*mult,0),1)\n",
    "    g['volume_acft'] = g['volume_m_cubed'].apply(lambda x: round(x*0.000810714,0),1)\n",
    "\n",
    "    g['date'] = g.apply(lambda x: pd.to_datetime(x.YearMonth,errors='coerce',format='%Y%m'),1)\n",
    "    return g"
   ]
  },
  {
   "cell_type": "code",
   "execution_count": 8,
   "metadata": {
    "ExecuteTime": {
     "end_time": "2018-04-05T13:58:07.598619Z",
     "start_time": "2018-04-05T13:58:06.611580Z"
    }
   },
   "outputs": [],
   "source": [
    "engineroute = \"G:/My Drive/WORK/Round_Valley/Data/\"\n",
    "\n",
    "sys.path.append(engineroute)\n",
    "import enginegetter\n",
    "engine = enginegetter.getEngine()"
   ]
  },
  {
   "cell_type": "code",
   "execution_count": 9,
   "metadata": {
    "ExecuteTime": {
     "end_time": "2018-04-05T14:04:12.870639Z",
     "start_time": "2018-04-05T13:58:39.162189Z"
    }
   },
   "outputs": [
    {
     "name": "stdout",
     "output_type": "stream",
     "text": [
      "geo aet\n",
      "geo asw\n",
      "geo rec\n",
      "geo run\n",
      "huc aet\n",
      "huc asw\n",
      "huc rec\n",
      "huc run\n"
     ]
    }
   ],
   "source": [
    "arcpy.env.workspace =\"E:/PROJECTS/Round_Valley/UBM_Zonal2.gdb\"\n",
    "tabname = 'roundvalley5'\n",
    "zones = ['geo','huc']\n",
    "datasets = ['aet','asw','rec','run']\n",
    "for zone in zones:\n",
    "    for data in datasets:\n",
    "        g = calcvols(searchStr='{:}_{:}*'.format(zone, data))\n",
    "        if \"HUC_12\" in g.columns:\n",
    "            g.rename(columns={\"HUC_12\":\"name\"},inplace=True)\n",
    "        g.to_sql(con=engine, name=tabname, if_exists='append', index=False)\n",
    "        print(zone, data)"
   ]
  },
  {
   "cell_type": "code",
   "execution_count": null,
   "metadata": {},
   "outputs": [],
   "source": []
  },
  {
   "cell_type": "markdown",
   "metadata": {},
   "source": [
    "## SNODAS"
   ]
  },
  {
   "cell_type": "code",
   "execution_count": null,
   "metadata": {
    "ExecuteTime": {
     "end_time": "2017-12-27T22:32:25.109889Z",
     "start_time": "2017-12-27T22:12:25.813263Z"
    }
   },
   "outputs": [],
   "source": [
    "# Set local variables\n",
    "arcpy.env.overwriteOutput = True\n",
    "# Set environment settings\n",
    "arcpy.env.workspace = \"F:/GIS/Ogden_Valley/New Folder/WB_SNODAS.gdb\"\n",
    "\n",
    "\n",
    "inZoneData = \"F:/GIS/Ogden_Valley/SWAT_2017_09_11/out_Data.gdb/watersheds_8\"\n",
    "zoneField = \"Permanent_Identifier\"\n",
    "for rast in arcpy.ListRasters():\n",
    "\n",
    "    outTable = \"F:/GIS/Ogden_Valley/New Folder/og_SNOTEL_zonal.gdb/zonal_{:}\".format(rast)\n",
    "    outZSaT = ZonalStatisticsAsTable(inZoneData, zoneField, rast, outTable, \"DATA\", \"MEAN\")\n",
    "\n"
   ]
  },
  {
   "cell_type": "code",
   "execution_count": null,
   "metadata": {
    "ExecuteTime": {
     "end_time": "2017-12-28T21:02:23.505977Z",
     "start_time": "2017-12-28T21:02:23.380641Z"
    }
   },
   "outputs": [],
   "source": []
  },
  {
   "cell_type": "code",
   "execution_count": null,
   "metadata": {
    "ExecuteTime": {
     "end_time": "2018-01-02T15:36:08.454231Z",
     "start_time": "2018-01-02T15:34:30.297377Z"
    }
   },
   "outputs": [],
   "source": [
    "snodct = getdict(\"F:/GIS/Ogden_Valley/New Folder/og_SNOTEL_zonal.gdb\",yrstrt = -9)\n",
    "snozone = dictozone(snodct, yrstrt = -9, dataend = 4)\n",
    "snotab = zonal_stack(snozone, zoneid = 'Permanent_Identifier', dmin=2010, dmax=2015)\n",
    "SNOdata = get_sum_rows(snotab)"
   ]
  },
  {
   "cell_type": "markdown",
   "metadata": {},
   "source": [
    "## PRISM"
   ]
  },
  {
   "cell_type": "code",
   "execution_count": null,
   "metadata": {
    "ExecuteTime": {
     "end_time": "2017-12-28T17:04:09.997409Z",
     "start_time": "2017-12-28T17:03:00.950736Z"
    }
   },
   "outputs": [],
   "source": [
    "#arcpy.env.workspace = \"E:/GIS/PRISM_raw\"\n",
    "arcpy.env.workspace = \"E:/Users/paulinkenbrandt/Downloads/PRISM_ppt_30yr_normal_800mM2_all_bil\"\n",
    "#project = \"USA Contiguous Albers Equal Area Conic USGS version\"\n",
    "sr = arcpy.SpatialReference(102039)\n",
    "\n",
    "cellSize = 150\n",
    "\n",
    "arcpy.env.overwriteOutput = True\n",
    "arcpy.env.mask = \"E:/GIS/PRISM.gdb/UT_HUCS\"\n",
    "# Check out the ArcGIS Spatial Analyst extension license\n",
    "arcpy.CheckOutExtension(\"Spatial\")\n",
    "\n",
    "for rast in arcpy.ListRasters():\n",
    "    arcpy.ProjectRaster_management(rast,\"in_memory/projPRSM\",sr,\"CUBIC\")\n",
    "    # Execute ExtractByMask\n",
    "    outExtractByMask = arcpy.sa.ExtractByMask(\"in_memory/projPRSM\", \"E:/GIS/PRISM.gdb/UT_HUCS\")\n",
    "\n",
    "    # Save the output \n",
    "    outExtractByMask.save(\"E:/GIS/PRISM.gdb/{:}\".format(rast[:-4]))\n",
    "\n",
    "    print(rast[:-4])"
   ]
  },
  {
   "cell_type": "code",
   "execution_count": null,
   "metadata": {
    "ExecuteTime": {
     "end_time": "2017-12-28T16:31:56.814767Z",
     "start_time": "2017-12-28T16:20:38.214908Z"
    }
   },
   "outputs": [],
   "source": [
    "# Set local variables\n",
    "arcpy.env.overwriteOutput = True\n",
    "# Set environment settings\n",
    "arcpy.env.workspace = \"E:\\GIS\\PRISM.gdb\"\n",
    "\n",
    "\n",
    "inZoneData = \"F:/GIS/Ogden_Valley/SWAT_2017_09_11/out_Data.gdb/watersheds_8\"\n",
    "zoneField = \"Permanent_Identifier\"\n",
    "for rast in arcpy.ListRasters():\n",
    "    if rast[1:5] in [str(i) for i in range(2000,2018)]:\n",
    "        outTable = \"F:/GIS/Ogden_Valley/New Folder/og_PRISM_zonal.gdb/zonal_{:}\".format(rast)\n",
    "        outZSaT = ZonalStatisticsAsTable(inZoneData, zoneField, rast, outTable, \"DATA\", \"MEAN\")\n"
   ]
  },
  {
   "cell_type": "code",
   "execution_count": null,
   "metadata": {
    "ExecuteTime": {
     "end_time": "2018-01-02T15:37:24.831260Z",
     "start_time": "2018-01-02T15:36:09.672509Z"
    }
   },
   "outputs": [],
   "source": [
    "prsdct = getdict(\"F:/GIS/Ogden_Valley/New Folder/og_PRISM_zonal.gdb\",yrstrt = -6)\n",
    "\n"
   ]
  },
  {
   "cell_type": "code",
   "execution_count": null,
   "metadata": {
    "ExecuteTime": {
     "end_time": "2018-01-02T15:37:26.774391Z",
     "start_time": "2018-01-02T15:37:26.532762Z"
    }
   },
   "outputs": [],
   "source": [
    "prszone = dictozone(prsdct, yrstrt = -6, dataend = 1,div=1000.0)\n",
    "prstab = zonal_stack(prszone, zoneid = 'Permanent_Identifier', dmin=2010, dmax=2016)\n",
    "PRSdata = get_sum_rows(prstab)"
   ]
  },
  {
   "cell_type": "markdown",
   "metadata": {
    "ExecuteTime": {
     "end_time": "2017-12-28T18:07:25.280653Z",
     "start_time": "2017-12-28T18:07:25.259140Z"
    }
   },
   "source": [
    "## UBM"
   ]
  },
  {
   "cell_type": "code",
   "execution_count": null,
   "metadata": {
    "ExecuteTime": {
     "end_time": "2017-12-28T19:41:22.293851Z",
     "start_time": "2017-12-28T18:59:29.839917Z"
    }
   },
   "outputs": [],
   "source": [
    "# Set local variables\n",
    "arcpy.env.overwriteOutput = True\n",
    "# Set environment settings\n",
    "arcpy.env.workspace = \"F:/GIS/Ogden_Valley/New Folder/Fixed_Results.gdb\"\n",
    "\n",
    "\n",
    "inZoneData = \"F:/GIS/Ogden_Valley/SWAT_2017_09_11/out_Data.gdb/watersheds_8\"\n",
    "zoneField = \"Permanent_Identifier\"\n",
    "\n",
    "for rast in arcpy.ListRasters():\n",
    "    if rast[-6:-2] in [str(i) for i in range(2000,2018)]:\n",
    "        outTable = \"F:/GIS/Ogden_Valley/New Folder/og_UBM_zonal.gdb/zonal_{:}\".format(rast)\n",
    "        outZSaT = ZonalStatisticsAsTable(inZoneData, zoneField, rast, outTable, \"DATA\", \"MEAN\")\n"
   ]
  },
  {
   "cell_type": "code",
   "execution_count": null,
   "metadata": {
    "ExecuteTime": {
     "end_time": "2018-01-02T15:41:12.076992Z",
     "start_time": "2018-01-02T15:37:28.493198Z"
    }
   },
   "outputs": [],
   "source": [
    "ubmdct = getdict(\"F:/GIS/Ogden_Valley/New Folder/og_UBM_zonal.gdb\")\n",
    "ubmzone = dictozone(ubmdct)\n"
   ]
  },
  {
   "cell_type": "code",
   "execution_count": null,
   "metadata": {
    "ExecuteTime": {
     "end_time": "2018-01-02T15:41:15.014478Z",
     "start_time": "2018-01-02T15:41:14.878089Z"
    }
   },
   "outputs": [],
   "source": [
    "ubmtab = zonal_stack(ubmzone)\n",
    "UBMdata = get_sum_rows(ubmtab)"
   ]
  },
  {
   "cell_type": "markdown",
   "metadata": {},
   "source": [
    "## Combine Data"
   ]
  },
  {
   "cell_type": "code",
   "execution_count": null,
   "metadata": {
    "ExecuteTime": {
     "end_time": "2018-01-02T15:41:18.960517Z",
     "start_time": "2018-01-02T15:41:18.006384Z"
    }
   },
   "outputs": [],
   "source": [
    "writer = pd.ExcelWriter(processed_dir+'Summary_zonal1.xlsx')\n",
    "PRSdata.to_excel(writer,'PRISM')\n",
    "SWTdata.to_excel(writer,'SWAT')\n",
    "UBMdata.to_excel(writer,'UBM')\n",
    "SNOdata.to_excel(writer,'SNODAS')\n",
    "writer.save()"
   ]
  },
  {
   "cell_type": "code",
   "execution_count": null,
   "metadata": {
    "ExecuteTime": {
     "end_time": "2018-01-02T15:43:26.064858Z",
     "start_time": "2018-01-02T15:43:25.977659Z"
    }
   },
   "outputs": [],
   "source": [
    "years = ['2010','2011','2012','2013','2014','2015','2016']\n",
    "SWTdata.loc['precip-ET'] = 0\n",
    "SWTdata.loc['precip-ET'].loc[:,years] = SWTdata.loc['PRECIPmm'].loc[:,years] - SWTdata.loc['ETmm'].loc[:,years]\n"
   ]
  },
  {
   "cell_type": "code",
   "execution_count": null,
   "metadata": {
    "ExecuteTime": {
     "end_time": "2018-01-02T22:08:30.679519Z",
     "start_time": "2018-01-02T22:08:30.675508Z"
    }
   },
   "outputs": [],
   "source": [
    "SWTdata.reset_index(inplace=True)"
   ]
  },
  {
   "cell_type": "code",
   "execution_count": null,
   "metadata": {
    "ExecuteTime": {
     "end_time": "2018-01-02T22:11:29.840251Z",
     "start_time": "2018-01-02T22:11:29.833734Z"
    }
   },
   "outputs": [],
   "source": [
    "SWTdata['data'] = SWTdata['index'].map(lambda x: x[0])\n",
    "SWTdata['area'] =  SWTdata['index'].map(lambda x: x[1])\n",
    "SWTdata.drop(['index'],axis=1,inplace=True)"
   ]
  },
  {
   "cell_type": "code",
   "execution_count": null,
   "metadata": {
    "ExecuteTime": {
     "end_time": "2018-01-02T22:12:14.579262Z",
     "start_time": "2018-01-02T22:12:14.574275Z"
    }
   },
   "outputs": [],
   "source": [
    "SWTdata.set_index(['data','area'],inplace=True)"
   ]
  },
  {
   "cell_type": "code",
   "execution_count": null,
   "metadata": {
    "ExecuteTime": {
     "end_time": "2018-01-02T22:12:26.292935Z",
     "start_time": "2018-01-02T22:12:26.287922Z"
    }
   },
   "outputs": [],
   "source": [
    "labels = list(set(SWTdata.index.get_level_values(0).values))\n",
    "labels"
   ]
  },
  {
   "cell_type": "code",
   "execution_count": null,
   "metadata": {
    "ExecuteTime": {
     "end_time": "2018-01-02T22:12:29.729386Z",
     "start_time": "2018-01-02T22:12:29.723897Z"
    }
   },
   "outputs": [],
   "source": [
    "areas = ['WCBRX','SFVF','SFBRX','Pineview','NFVF','NFBRX','MFVF','MFBRX']\n",
    "peares = ['WCBRX','SFBRX','Pineview','NFBRX','MFVF','MFBRX']\n",
    "years = [str(i) for i in range (2010,2015)]"
   ]
  },
  {
   "cell_type": "code",
   "execution_count": null,
   "metadata": {
    "ExecuteTime": {
     "end_time": "2018-01-02T22:30:14.928093Z",
     "start_time": "2018-01-02T22:30:14.922102Z"
    }
   },
   "outputs": [],
   "source": [
    "PRSdata.loc['P'].loc[areas].index.values\n",
    "areas"
   ]
  },
  {
   "cell_type": "code",
   "execution_count": null,
   "metadata": {
    "ExecuteTime": {
     "end_time": "2018-01-02T22:31:57.014612Z",
     "start_time": "2018-01-02T22:31:56.994560Z"
    }
   },
   "outputs": [],
   "source": [
    "print(PRSdata.loc['P'].loc[areas].index.values, SWTdata.loc['PRECIPmm'].loc[areas].index.values)\n",
    "PRSdata.loc['P'].loc[areas,years]"
   ]
  },
  {
   "cell_type": "code",
   "execution_count": null,
   "metadata": {
    "ExecuteTime": {
     "end_time": "2018-01-02T22:47:22.293255Z",
     "start_time": "2018-01-02T22:47:22.260177Z"
    }
   },
   "outputs": [],
   "source": [
    "import statsmodels.api as sm\n",
    "import statsmodels.formula.api as smf\n",
    "\n",
    "def olsplot(x,y,xname, ax):\n",
    "\n",
    "#x = zsum.loc['WYLD'].loc['south_fork',years]\n",
    "#y = yearly_q.loc[[int(i) for i in years],'acftyr']\n",
    "    #x.index = x.index.map(int)\n",
    "    #y.index = y.index.map(int)\n",
    "    df = pd.DataFrame({'x':x,'y':y})\n",
    "\n",
    "\n",
    "    #X = sm.add_constant(x.values)\n",
    "    results = smf.ols('y~x', data=df).fit()\n",
    "\n",
    "    print(results.summary())\n",
    "\n",
    "    modx = df[x]\n",
    "    mody = [results.params.Intercept + i* results.params.x for i in modx]\n",
    "    ax.plot(modx,mody, label = 'best fit line\\nr-sqaured = {:.2f}'.format(results.rsquared))\n",
    "    ax.scatter(x,y, label = 'data')\n",
    "    ax.plot(range(0,300000),range(0,300000), label = '1-1 line')\n",
    "    ax.set_ylim(5000,200000)\n",
    "    ax.set_xlim(5000,200000)\n",
    "    ax.grid()\n",
    "    \n",
    "    return modx, mody\n",
    "\n",
    "\n",
    "#plt.ylabel('SWAT modeled Water Yeild (acft/yr)')\n",
    "#plt.xlabel('USGS Measured Flow (acft/yr)')\n",
    "#plt.legend(loc=2)\n",
    "#plt.savefig()"
   ]
  },
  {
   "cell_type": "code",
   "execution_count": null,
   "metadata": {
    "ExecuteTime": {
     "end_time": "2018-01-02T22:50:10.254200Z",
     "start_time": "2018-01-02T22:50:10.232114Z"
    }
   },
   "outputs": [],
   "source": [
    "pd.DataFrame({'x':xdat,'y':ydat})"
   ]
  },
  {
   "cell_type": "code",
   "execution_count": null,
   "metadata": {
    "ExecuteTime": {
     "end_time": "2018-01-02T22:53:27.045449Z",
     "start_time": "2018-01-02T22:53:24.611315Z"
    }
   },
   "outputs": [],
   "source": [
    "fig, ax = plt.subplots(2, 2)\n",
    "\n",
    "\n",
    "norm = mpl.colors.Normalize(vmin=0,vmax=len(areas))\n",
    "i = 0\n",
    "for area in areas:\n",
    "\n",
    "    ax[0, 0].scatter(SNOdata.loc['SNML'].loc[area,years],\n",
    "                SWTdata.loc['SNOMELTmm'].loc[area,years], color=plt.cm.cool(norm(i)), label=str(area))\n",
    "    i += 1\n",
    "\n",
    "\n",
    "x = range(0,500000,20)\n",
    "y = [1*i for i in x]\n",
    "ax[0, 0].plot(x,y,'-.',label='1-1 line')\n",
    "ax[0, 0].set_ylabel('SWAT Snowmelt (ac-ft/yr)')\n",
    "ax[0, 0].set_xlabel('SNODAS Snowmelt (ac-ft/yr)')\n",
    "\n",
    "ax[0, 0].grid()\n",
    "ax[0, 0].set_xlim(100,500000)\n",
    "ax[0, 0].set_ylim(100,500000)\n",
    "ax[0, 0].set_xscale('log')\n",
    "ax[0, 0].set_yscale('log')\n",
    "\n",
    "\n",
    "\n",
    "\n",
    "\n",
    "i = 0\n",
    "for area in areas:\n",
    "\n",
    "    ax[0, 1].scatter(UBMdata.loc['aet2'].loc[area,years],\n",
    "                SWTdata.loc['ETmm'].loc[area,years], color=plt.cm.cool(norm(i)), label=str(area))\n",
    "    i += 1\n",
    "\n",
    "\n",
    "ax[0, 1].plot(x,y,'-.',label='1-1 line')\n",
    "ax[0, 1].set_ylabel('SWAT Evapotranspiration (ac-ft/yr)')\n",
    "ax[0, 1].set_xlabel('UBM Evapotranspiration (ac-ft/yr)')\n",
    "\n",
    "ax[0, 1].grid()\n",
    "ax[0, 1].set_xlim(100,500000)\n",
    "ax[0, 1].set_ylim(100,500000)\n",
    "ax[0, 1].set_xscale('log')\n",
    "ax[0, 1].set_yscale('log')\n",
    "\n",
    "\n",
    "\n",
    "i = 0\n",
    "for area in areas:\n",
    "\n",
    "    ax[1, 0].scatter(UBMdata.loc['rec2'].loc[area,years],\n",
    "                SWTdata.loc['PERCmm'].loc[area,years], color=plt.cm.cool(norm(i)), label=str(area))\n",
    "    i += 1\n",
    "    \n",
    "    \n",
    "\n",
    "ax[1, 0].plot(x,y,'-.',label='1-1 line')\n",
    "ax[1, 0].set_ylabel('SWAT Percolation (ac-ft/yr)')\n",
    "ax[1, 0].set_xlabel('UBM Recharge (ac-ft/yr)')\n",
    "ax[1, 0].grid()\n",
    "ax[1, 0].set_xlim(100,500000)\n",
    "ax[1, 0].set_ylim(100,500000)\n",
    "ax[1, 0].set_xscale('log')\n",
    "ax[1, 0].set_yscale('log')\n",
    "\n",
    "\n",
    "\n",
    "i = 0\n",
    "for area in areas:\n",
    "    \n",
    "    if area not in ['SFVF','NFVF']:\n",
    "        ax[1, 1].scatter(PRSdata.loc['P'].loc[area,years], SWTdata.loc['PRECIPmm'].loc[area,years],\n",
    "                    color=plt.cm.cool(norm(i)), label=str(area))\n",
    "    i += 1\n",
    "    \n",
    "\n",
    "ax[1, 1].plot(x,y,'-.',label='1-1 line')\n",
    "ax[1, 1].set_ylabel('SWAT Precipitation (ac-ft/yr)')\n",
    "ax[1, 1].set_xlabel('PRISM Precipitation (ac-ft/yr)')\n",
    "\n",
    "ax[1, 1].grid()\n",
    "ax[1, 1].set_xlim(100,500000)\n",
    "ax[1, 1].set_ylim(100,500000)\n",
    "ax[1, 1].set_xscale('log')\n",
    "ax[1, 1].set_yscale('log')\n",
    "\n",
    "# Fine-tune figure; hide x ticks for top plots and y ticks for right plots\n",
    "plt.setp([a.get_xticklabels() for a in ax[0, :]], visible=False)\n",
    "plt.setp([a.get_yticklabels() for a in ax[:, 1]], visible=False)\n",
    "\n",
    "h1, l1 = ax[0,0].get_legend_handles_labels()\n",
    "h2, l2 = ax[0,1].get_legend_handles_labels()\n",
    "\n",
    "fig.legend(h1, l1, loc=8, bbox_transform=fig.transFigure, ncol=4, scatterpoints = 1 )\n",
    "\n",
    "\n",
    "fig.tight_layout()\n",
    "fig.subplots_adjust(bottom=0.10)   \n",
    "\n",
    "plt.savefig('G:/My Drive/WORK/Ogden Valley/SWAT_figures/USGSvsOtherModels.pdf')"
   ]
  },
  {
   "cell_type": "code",
   "execution_count": null,
   "metadata": {
    "ExecuteTime": {
     "end_time": "2018-01-02T23:06:26.714737Z",
     "start_time": "2018-01-02T23:06:08.578649Z"
    },
    "scrolled": false
   },
   "outputs": [],
   "source": [
    "fig, ax = plt.subplots(2, 1, sharex=True)\n",
    "\n",
    "\n",
    "byrch, valley_out = getPlot(output_dir, 38)\n",
    "discharge = wa.nwis('dv','10137780','sites')\n",
    "flow_data = discharge.data\n",
    "flow_data.reset_index(inplace=True)\n",
    "flow_data.set_index('datetime',inplace=True)\n",
    "#flow_data = flow_data[(flow_data.index >= pd.datetime(2010,1,1))&(flow_data.index < pd.datetime(2017,1,1))]\n",
    "flow_data = flow_data.resample('1D').mean()\n",
    "flow_data.interpolate(method='time',inplace=True)\n",
    "\n",
    "dailyusgsflow = flow_data.groupby(flow_data.index.dayofyear).mean()\n",
    "dailyswatflow = valley_out.groupby(valley_out.index.dayofyear).mean()\n",
    "\n",
    "x = dailyusgsflow.index\n",
    "y1 = dailyusgsflow.value\n",
    "y2 = dailyswatflow.FLOW_OUTcfs\n",
    "\n",
    "usgs_first = discharge.data.first_valid_index()\n",
    "usgs_last = discharge.data.last_valid_index()\n",
    "swat_first = valley_out.first_valid_index()\n",
    "swat_last = valley_out.last_valid_index()\n",
    "\n",
    "\n",
    "ax[0].plot(x,y1,label = 'Average USGS-Measured Runoff {:%m-%d-%Y} to {:%m-%d-%Y}'.format(usgs_first,usgs_last))\n",
    "ax[0].plot(x,y2,label =  'Average SWAT-Modeled Runoff {:%m-%d-%Y} to {:%m-%d-%Y}'.format(swat_first,swat_last))\n",
    "ax[0].set_title('Middle Fork (USGS site 10137780)')\n",
    "ax[0].set_ylabel('Discharge (cfs)')\n",
    "ax[0].set_xlim(0,365)\n",
    "\n",
    "dtrng = pd.date_range('1/1/2016','12/31/2016',freq='1M')\n",
    "ticklocs = [0] + [float(d.strftime('%j')) for d in dtrng][:-1]\n",
    "datelabels = [d.strftime('%b') for d in dtrng]\n",
    "\n",
    "ax[0].set_xticks(ticklocs, datelabels)\n",
    "ax[0].grid()\n",
    "\n",
    "byrch, valley_out = getPlot(output_dir, 44)\n",
    "discharge = wa.nwis('dv','10137700','sites')\n",
    "flow_data = discharge.data\n",
    "flow_data.reset_index(inplace=True)\n",
    "flow_data.set_index('datetime',inplace=True)\n",
    "#flow_data = flow_data[(flow_data.index >= pd.datetime(2010,1,1))&(flow_data.index < pd.datetime(2017,1,1))]\n",
    "flow_data = flow_data.resample('1D').mean()\n",
    "flow_data.interpolate(method='time',inplace=True)\n",
    "\n",
    "dailyusgsflow = flow_data.groupby(flow_data.index.dayofyear).mean()\n",
    "dailyswatflow = valley_out.groupby(valley_out.index.dayofyear).mean()\n",
    "\n",
    "x = dailyusgsflow.index\n",
    "y1 = dailyusgsflow.value\n",
    "y2 = dailyswatflow.FLOW_OUTcfs\n",
    "\n",
    "usgs_first = discharge.data.first_valid_index()\n",
    "usgs_last = discharge.data.last_valid_index()\n",
    "swat_first = valley_out.first_valid_index()\n",
    "swat_last = valley_out.last_valid_index()\n",
    "\n",
    "\n",
    "ax[1].plot(x,y1,label = 'Average USGS-Measured Runoff {:%m-%d-%Y} to {:%m-%d-%Y}'.format(usgs_first,usgs_last))\n",
    "ax[1].plot(x,y2,label =  'Average SWAT-Modeled Runoff {:%m-%d-%Y} to {:%m-%d-%Y}'.format(swat_first,swat_last))\n",
    "\n",
    "ax[1].set_ylabel('Discharge (cfs)')\n",
    "ax[1].set_xlabel('month')\n",
    "ax[1].set_xlim(0,365)\n",
    "ax[1].set_title('North Fork (USGS site 10137700)')\n",
    "dtrng = pd.date_range('1/1/2016','12/31/2016',freq='1M')\n",
    "ticklocs = [0] + [float(d.strftime('%j')) for d in dtrng][:-1]\n",
    "datelabels = [d.strftime('%b') for d in dtrng]\n",
    "ax[1].set_xticks(ticklocs, datelabels)\n",
    "ax[1].grid()\n",
    "\n",
    "h2, l2 = ax[0].get_legend_handles_labels()\n",
    "\n",
    "fig.legend(h2, l2, loc=8, bbox_transform=fig.transFigure, ncol=4, scatterpoints = 1 )\n",
    "\n",
    "plt.savefig('G:/My Drive/WORK/Ogden Valley/SWAT_figures/midfork_comp.pdf')"
   ]
  },
  {
   "cell_type": "code",
   "execution_count": null,
   "metadata": {
    "ExecuteTime": {
     "end_time": "2018-01-02T23:27:03.620589Z",
     "start_time": "2018-01-02T23:26:52.864559Z"
    }
   },
   "outputs": [],
   "source": [
    "import seaborn as sns\n",
    "sns.set(style=\"darkgrid\", color_codes=True)\n",
    "\n",
    "byrch, valley_out = getPlot(output_dir, 44)\n",
    "discharge = wa.nwis('dv','10137700','sites')\n",
    "flow_data = discharge.data\n",
    "flow_data.reset_index(inplace=True)\n",
    "flow_data.set_index('datetime',inplace=True)\n",
    "#flow_data = flow_data[(flow_data.index >= pd.datetime(2010,1,1))&(flow_data.index < pd.datetime(2017,1,1))]\n",
    "flow_data = flow_data.resample('1D').mean()\n",
    "flow_data.interpolate(method='time',inplace=True)\n",
    "\n",
    "dailyusgsflow = flow_data.groupby(flow_data.index.dayofyear).mean()\n",
    "dailyswatflow = valley_out.groupby(valley_out.index.dayofyear).mean()\n",
    "\n",
    "x = dailyusgsflow.index\n",
    "y1 = dailyusgsflow.value\n",
    "y2 = dailyswatflow.FLOW_OUTcfs\n",
    "\n",
    "mybins=np.logspace(0,np.log(500),100)\n",
    "\n",
    "g = sns.jointplot(y1, y2,  kind=\"reg\",\n",
    "                  xlim=(0.001, 500), ylim=(0.001, 500), color=\"r\", size=7)\n",
    "#g.plot_marginals(sns.distplot, hist=True, kde=True, color='blue',bins=mybins)\n",
    "\n",
    "ax = g.ax_joint\n",
    "ax.set_xscale('log')\n",
    "ax.set_yscale('log')\n",
    "g.ax_marg_x.set_xscale('log')\n",
    "g.ax_marg_y.set_yscale('log')"
   ]
  },
  {
   "cell_type": "code",
   "execution_count": null,
   "metadata": {
    "ExecuteTime": {
     "end_time": "2018-01-02T23:28:43.164199Z",
     "start_time": "2018-01-02T23:28:32.644129Z"
    }
   },
   "outputs": [],
   "source": [
    "byrch, valley_out = getPlot(output_dir, 38)\n",
    "discharge = wa.nwis('dv','10137780','sites')\n",
    "flow_data = discharge.data\n",
    "flow_data.reset_index(inplace=True)\n",
    "flow_data.set_index('datetime',inplace=True)\n",
    "#flow_data = flow_data[(flow_data.index >= pd.datetime(2010,1,1))&(flow_data.index < pd.datetime(2017,1,1))]\n",
    "flow_data = flow_data.resample('1D').mean()\n",
    "flow_data.interpolate(method='time',inplace=True)\n",
    "\n",
    "dailyusgsflow = flow_data.groupby(flow_data.index.dayofyear).mean()\n",
    "dailyswatflow = valley_out.groupby(valley_out.index.dayofyear).mean()\n",
    "\n",
    "x = dailyusgsflow.index\n",
    "y1 = dailyusgsflow.value\n",
    "y2 = dailyswatflow.FLOW_OUTcfs\n",
    "\n",
    "mybins=np.logspace(0,np.log(500),100)\n",
    "\n",
    "g = sns.jointplot(y1, y2,  kind=\"reg\",\n",
    "                  xlim=(0, 500), ylim=(0, 500), color=\"r\", size=7)\n",
    "#g.plot_marginals(sns.distplot, hist=True, kde=True, color='blue',bins=mybins)\n",
    "\n"
   ]
  },
  {
   "cell_type": "code",
   "execution_count": null,
   "metadata": {
    "ExecuteTime": {
     "end_time": "2018-01-02T23:30:12.867389Z",
     "start_time": "2018-01-02T23:30:12.603689Z"
    }
   },
   "outputs": [],
   "source": [
    "plt.scatter(y1,y2)\n",
    "x2 = range(0,350)\n",
    "plt.plot(x2,x2)\n",
    "plt.grid()\n",
    "plt.xlim(0,350)\n",
    "plt.ylim(0,350)\n",
    "\n",
    "\n",
    "df = pd.concat([y1,y2],axis=1)\n",
    "\n",
    "\n",
    "#X = sm.add_constant(x.values)\n",
    "results = smf.ols('value~FLOW_OUTcfs', data=df).fit()\n",
    "parms = results.params\n",
    "print(results.summary())\n",
    "\n",
    "modx = df['FLOW_OUTcfs']\n",
    "mody = [parms.Intercept + i* parms.FLOW_OUTcfs for i in modx]\n",
    "plt.plot(modx,mody, label = 'best fit line\\nr-sqaured = {:.2f}'.format(results.rsquared))\n",
    "#plt.scatter(x,y, label = 'data')\n",
    "\n"
   ]
  },
  {
   "cell_type": "code",
   "execution_count": null,
   "metadata": {},
   "outputs": [],
   "source": []
  },
  {
   "cell_type": "code",
   "execution_count": null,
   "metadata": {},
   "outputs": [],
   "source": [
    "\n",
    "x1 = valley_out.index\n",
    "y1 = valley_out['FLOW_OUTcfs']\n",
    "x2 = flow_data.index\n",
    "y2 = flow_data['value']\n",
    "\n",
    "plt.figure()\n",
    "plt.plot(x1,y1,label='SWAT')\n",
    "plt.plot(x2,y2,label='USGS')\n",
    "plt.title('Discharge at USGS site 10137500')\n",
    "plt.legend()\n",
    "plt.ylabel('Discharge (cfs)')\n",
    "#plt.xlim('1/1/2014','10/1/2017')\n",
    "#plt.ylim(0,1000)\n",
    "plt.yscale('log')\n",
    "plt.savefig(processed_dir+'USGSandSWATdischargeBasinOut10137500.pdf')\n",
    "\n",
    "plt.figure()\n",
    "plt.scatter(y2,y1)\n",
    "x3 = range(0,1700)\n",
    "y3 = x3\n",
    "plt.plot(x3,x3,color='red')\n",
    "plt.xlim(0,1800)\n",
    "plt.ylim(0,1800)\n",
    "plt.grid()\n",
    "plt.title('Discharge at USGS site 10137500')\n",
    "plt.ylabel('SWAT Discharge (cfs)')\n",
    "plt.xlabel('USGS Discharge (cfs)')\n",
    "plt.savefig(processed_dir+'USGSvsSWATdischargeBasinOut10137500.pdf')"
   ]
  }
 ],
 "metadata": {
  "kernelspec": {
   "display_name": "Python 3",
   "language": "python",
   "name": "python3"
  },
  "language_info": {
   "codemirror_mode": {
    "name": "ipython",
    "version": 3
   },
   "file_extension": ".py",
   "mimetype": "text/x-python",
   "name": "python",
   "nbconvert_exporter": "python",
   "pygments_lexer": "ipython3",
   "version": "3.6.2"
  },
  "toc": {
   "nav_menu": {},
   "number_sections": true,
   "sideBar": true,
   "skip_h1_title": false,
   "title_cell": "Table of Contents",
   "title_sidebar": "Contents",
   "toc_cell": false,
   "toc_position": {
    "height": "795px",
    "left": "0px",
    "right": "1692px",
    "top": "111px",
    "width": "228px"
   },
   "toc_section_display": true,
   "toc_window_display": true
  },
  "varInspector": {
   "cols": {
    "lenName": 16,
    "lenType": 16,
    "lenVar": 40
   },
   "kernels_config": {
    "python": {
     "delete_cmd_postfix": "",
     "delete_cmd_prefix": "del ",
     "library": "var_list.py",
     "varRefreshCmd": "print(var_dic_list())"
    },
    "r": {
     "delete_cmd_postfix": ") ",
     "delete_cmd_prefix": "rm(",
     "library": "var_list.r",
     "varRefreshCmd": "cat(var_dic_list()) "
    }
   },
   "types_to_exclude": [
    "module",
    "function",
    "builtin_function_or_method",
    "instance",
    "_Feature"
   ],
   "window_display": false
  }
 },
 "nbformat": 4,
 "nbformat_minor": 2
}
